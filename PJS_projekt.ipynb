{
 "cells": [
  {
   "cell_type": "markdown",
   "metadata": {},
   "source": [
    "## Korona-Science: Projekt\n",
    "\n",
    "# Analiza danych dotyczących epidemii Covid-19\n",
    "\n",
    "### Patryk Jan Sozański                                                             \n",
    "##### student drugiego roku Informatyki                                         \n",
    "##### Wydziału Elektroniki i Technik Informacyjnych\n",
    "##### Politechniki Warszawskiej"
   ]
  },
  {
   "cell_type": "code",
   "execution_count": 126,
   "metadata": {},
   "outputs": [],
   "source": [
    "import numpy as np\n",
    "import pandas as pd\n",
    "import matplotlib.pyplot as plt\n",
    "import math as math\n",
    "\n",
    "import datetime"
   ]
  },
  {
   "cell_type": "code",
   "execution_count": 127,
   "metadata": {},
   "outputs": [],
   "source": [
    "#funckja zwracająca wczorajszą datę\n",
    "def yesterday():\n",
    "    \n",
    "    now = datetime.datetime.now()\n",
    "    \n",
    "    dayBefore = (now - datetime.timedelta(days=1))\n",
    "    \n",
    "    day = int(dayBefore.day)\n",
    "    month = int(dayBefore.month)\n",
    "    year = int(dayBefore.year)\n",
    "    \n",
    "    date = datetime.date(year, month, day).strftime('%Y-%m-%d').lstrip(\"0\").replace(\" 0\", \" \").replace(\"/0\", \"/\")\n",
    "    \n",
    "    return date"
   ]
  },
  {
   "cell_type": "code",
   "execution_count": 128,
   "metadata": {},
   "outputs": [],
   "source": [
    "#dane o epidemii COVID-19\n",
    "TotalConfirmedCases = pd.read_csv('https://raw.githubusercontent.com/datasets/covid-19/master/data/countries-aggregated.csv', usecols=[\"Date\",\"Country\",\"Confirmed\",\"Recovered\",\"Deaths\"], index_col=\"Country\")"
   ]
  },
  {
   "cell_type": "code",
   "execution_count": 129,
   "metadata": {},
   "outputs": [
    {
     "data": {
      "text/html": [
       "<div>\n",
       "<style scoped>\n",
       "    .dataframe tbody tr th:only-of-type {\n",
       "        vertical-align: middle;\n",
       "    }\n",
       "\n",
       "    .dataframe tbody tr th {\n",
       "        vertical-align: top;\n",
       "    }\n",
       "\n",
       "    .dataframe thead th {\n",
       "        text-align: right;\n",
       "    }\n",
       "</style>\n",
       "<table border=\"1\" class=\"dataframe\">\n",
       "  <thead>\n",
       "    <tr style=\"text-align: right;\">\n",
       "      <th></th>\n",
       "      <th>Date</th>\n",
       "      <th>Confirmed</th>\n",
       "      <th>Recovered</th>\n",
       "      <th>Deaths</th>\n",
       "    </tr>\n",
       "    <tr>\n",
       "      <th>Country</th>\n",
       "      <th></th>\n",
       "      <th></th>\n",
       "      <th></th>\n",
       "      <th></th>\n",
       "    </tr>\n",
       "  </thead>\n",
       "  <tbody>\n",
       "    <tr>\n",
       "      <td>Afghanistan</td>\n",
       "      <td>2020-01-22</td>\n",
       "      <td>0</td>\n",
       "      <td>0.0</td>\n",
       "      <td>0</td>\n",
       "    </tr>\n",
       "    <tr>\n",
       "      <td>Albania</td>\n",
       "      <td>2020-01-22</td>\n",
       "      <td>0</td>\n",
       "      <td>0.0</td>\n",
       "      <td>0</td>\n",
       "    </tr>\n",
       "    <tr>\n",
       "      <td>Algeria</td>\n",
       "      <td>2020-01-22</td>\n",
       "      <td>0</td>\n",
       "      <td>0.0</td>\n",
       "      <td>0</td>\n",
       "    </tr>\n",
       "    <tr>\n",
       "      <td>Andorra</td>\n",
       "      <td>2020-01-22</td>\n",
       "      <td>0</td>\n",
       "      <td>0.0</td>\n",
       "      <td>0</td>\n",
       "    </tr>\n",
       "    <tr>\n",
       "      <td>Angola</td>\n",
       "      <td>2020-01-22</td>\n",
       "      <td>0</td>\n",
       "      <td>0.0</td>\n",
       "      <td>0</td>\n",
       "    </tr>\n",
       "    <tr>\n",
       "      <td>...</td>\n",
       "      <td>...</td>\n",
       "      <td>...</td>\n",
       "      <td>...</td>\n",
       "      <td>...</td>\n",
       "    </tr>\n",
       "    <tr>\n",
       "      <td>Venezuela</td>\n",
       "      <td>2020-03-28</td>\n",
       "      <td>119</td>\n",
       "      <td>39.0</td>\n",
       "      <td>2</td>\n",
       "    </tr>\n",
       "    <tr>\n",
       "      <td>Vietnam</td>\n",
       "      <td>2020-03-28</td>\n",
       "      <td>174</td>\n",
       "      <td>21.0</td>\n",
       "      <td>0</td>\n",
       "    </tr>\n",
       "    <tr>\n",
       "      <td>West Bank and Gaza</td>\n",
       "      <td>2020-03-28</td>\n",
       "      <td>98</td>\n",
       "      <td>18.0</td>\n",
       "      <td>1</td>\n",
       "    </tr>\n",
       "    <tr>\n",
       "      <td>Zambia</td>\n",
       "      <td>2020-03-28</td>\n",
       "      <td>28</td>\n",
       "      <td>0.0</td>\n",
       "      <td>0</td>\n",
       "    </tr>\n",
       "    <tr>\n",
       "      <td>Zimbabwe</td>\n",
       "      <td>2020-03-28</td>\n",
       "      <td>7</td>\n",
       "      <td>0.0</td>\n",
       "      <td>1</td>\n",
       "    </tr>\n",
       "  </tbody>\n",
       "</table>\n",
       "<p>11859 rows × 4 columns</p>\n",
       "</div>"
      ],
      "text/plain": [
       "                          Date  Confirmed  Recovered  Deaths\n",
       "Country                                                     \n",
       "Afghanistan         2020-01-22          0        0.0       0\n",
       "Albania             2020-01-22          0        0.0       0\n",
       "Algeria             2020-01-22          0        0.0       0\n",
       "Andorra             2020-01-22          0        0.0       0\n",
       "Angola              2020-01-22          0        0.0       0\n",
       "...                        ...        ...        ...     ...\n",
       "Venezuela           2020-03-28        119       39.0       2\n",
       "Vietnam             2020-03-28        174       21.0       0\n",
       "West Bank and Gaza  2020-03-28         98       18.0       1\n",
       "Zambia              2020-03-28         28        0.0       0\n",
       "Zimbabwe            2020-03-28          7        0.0       1\n",
       "\n",
       "[11859 rows x 4 columns]"
      ]
     },
     "execution_count": 129,
     "metadata": {},
     "output_type": "execute_result"
    }
   ],
   "source": [
    "TotalConfirmedCases"
   ]
  },
  {
   "cell_type": "code",
   "execution_count": 130,
   "metadata": {},
   "outputs": [],
   "source": [
    "#wybieranie danych najbardziej aktualnych - wczorajszych\n",
    "TotalConfirmedCasesYesterday = TotalConfirmedCases.where(TotalConfirmedCases.Date == yesterday()).dropna()"
   ]
  },
  {
   "cell_type": "code",
   "execution_count": 131,
   "metadata": {},
   "outputs": [
    {
     "data": {
      "text/html": [
       "<div>\n",
       "<style scoped>\n",
       "    .dataframe tbody tr th:only-of-type {\n",
       "        vertical-align: middle;\n",
       "    }\n",
       "\n",
       "    .dataframe tbody tr th {\n",
       "        vertical-align: top;\n",
       "    }\n",
       "\n",
       "    .dataframe thead th {\n",
       "        text-align: right;\n",
       "    }\n",
       "</style>\n",
       "<table border=\"1\" class=\"dataframe\">\n",
       "  <thead>\n",
       "    <tr style=\"text-align: right;\">\n",
       "      <th></th>\n",
       "      <th>Date</th>\n",
       "      <th>Confirmed</th>\n",
       "      <th>Recovered</th>\n",
       "      <th>Deaths</th>\n",
       "    </tr>\n",
       "    <tr>\n",
       "      <th>Country</th>\n",
       "      <th></th>\n",
       "      <th></th>\n",
       "      <th></th>\n",
       "      <th></th>\n",
       "    </tr>\n",
       "  </thead>\n",
       "  <tbody>\n",
       "    <tr>\n",
       "      <td>Afghanistan</td>\n",
       "      <td>2020-03-28</td>\n",
       "      <td>110.0</td>\n",
       "      <td>2.0</td>\n",
       "      <td>4.0</td>\n",
       "    </tr>\n",
       "    <tr>\n",
       "      <td>Albania</td>\n",
       "      <td>2020-03-28</td>\n",
       "      <td>197.0</td>\n",
       "      <td>31.0</td>\n",
       "      <td>10.0</td>\n",
       "    </tr>\n",
       "    <tr>\n",
       "      <td>Algeria</td>\n",
       "      <td>2020-03-28</td>\n",
       "      <td>454.0</td>\n",
       "      <td>31.0</td>\n",
       "      <td>29.0</td>\n",
       "    </tr>\n",
       "    <tr>\n",
       "      <td>Andorra</td>\n",
       "      <td>2020-03-28</td>\n",
       "      <td>308.0</td>\n",
       "      <td>1.0</td>\n",
       "      <td>3.0</td>\n",
       "    </tr>\n",
       "    <tr>\n",
       "      <td>Angola</td>\n",
       "      <td>2020-03-28</td>\n",
       "      <td>5.0</td>\n",
       "      <td>0.0</td>\n",
       "      <td>0.0</td>\n",
       "    </tr>\n",
       "    <tr>\n",
       "      <td>Antigua and Barbuda</td>\n",
       "      <td>2020-03-28</td>\n",
       "      <td>7.0</td>\n",
       "      <td>0.0</td>\n",
       "      <td>0.0</td>\n",
       "    </tr>\n",
       "    <tr>\n",
       "      <td>Argentina</td>\n",
       "      <td>2020-03-28</td>\n",
       "      <td>690.0</td>\n",
       "      <td>72.0</td>\n",
       "      <td>18.0</td>\n",
       "    </tr>\n",
       "    <tr>\n",
       "      <td>Armenia</td>\n",
       "      <td>2020-03-28</td>\n",
       "      <td>407.0</td>\n",
       "      <td>30.0</td>\n",
       "      <td>1.0</td>\n",
       "    </tr>\n",
       "    <tr>\n",
       "      <td>Australia</td>\n",
       "      <td>2020-03-28</td>\n",
       "      <td>3640.0</td>\n",
       "      <td>244.0</td>\n",
       "      <td>14.0</td>\n",
       "    </tr>\n",
       "    <tr>\n",
       "      <td>Austria</td>\n",
       "      <td>2020-03-28</td>\n",
       "      <td>8271.0</td>\n",
       "      <td>225.0</td>\n",
       "      <td>68.0</td>\n",
       "    </tr>\n",
       "    <tr>\n",
       "      <td>Azerbaijan</td>\n",
       "      <td>2020-03-28</td>\n",
       "      <td>182.0</td>\n",
       "      <td>15.0</td>\n",
       "      <td>4.0</td>\n",
       "    </tr>\n",
       "    <tr>\n",
       "      <td>Bahamas</td>\n",
       "      <td>2020-03-28</td>\n",
       "      <td>10.0</td>\n",
       "      <td>1.0</td>\n",
       "      <td>0.0</td>\n",
       "    </tr>\n",
       "    <tr>\n",
       "      <td>Bahrain</td>\n",
       "      <td>2020-03-28</td>\n",
       "      <td>476.0</td>\n",
       "      <td>265.0</td>\n",
       "      <td>4.0</td>\n",
       "    </tr>\n",
       "    <tr>\n",
       "      <td>Bangladesh</td>\n",
       "      <td>2020-03-28</td>\n",
       "      <td>48.0</td>\n",
       "      <td>15.0</td>\n",
       "      <td>5.0</td>\n",
       "    </tr>\n",
       "    <tr>\n",
       "      <td>Barbados</td>\n",
       "      <td>2020-03-28</td>\n",
       "      <td>26.0</td>\n",
       "      <td>0.0</td>\n",
       "      <td>0.0</td>\n",
       "    </tr>\n",
       "    <tr>\n",
       "      <td>Belarus</td>\n",
       "      <td>2020-03-28</td>\n",
       "      <td>94.0</td>\n",
       "      <td>32.0</td>\n",
       "      <td>0.0</td>\n",
       "    </tr>\n",
       "    <tr>\n",
       "      <td>Belgium</td>\n",
       "      <td>2020-03-28</td>\n",
       "      <td>9134.0</td>\n",
       "      <td>1063.0</td>\n",
       "      <td>353.0</td>\n",
       "    </tr>\n",
       "    <tr>\n",
       "      <td>Belize</td>\n",
       "      <td>2020-03-28</td>\n",
       "      <td>2.0</td>\n",
       "      <td>0.0</td>\n",
       "      <td>0.0</td>\n",
       "    </tr>\n",
       "    <tr>\n",
       "      <td>Benin</td>\n",
       "      <td>2020-03-28</td>\n",
       "      <td>6.0</td>\n",
       "      <td>0.0</td>\n",
       "      <td>0.0</td>\n",
       "    </tr>\n",
       "    <tr>\n",
       "      <td>Bhutan</td>\n",
       "      <td>2020-03-28</td>\n",
       "      <td>3.0</td>\n",
       "      <td>0.0</td>\n",
       "      <td>0.0</td>\n",
       "    </tr>\n",
       "  </tbody>\n",
       "</table>\n",
       "</div>"
      ],
      "text/plain": [
       "                           Date  Confirmed  Recovered  Deaths\n",
       "Country                                                      \n",
       "Afghanistan          2020-03-28      110.0        2.0     4.0\n",
       "Albania              2020-03-28      197.0       31.0    10.0\n",
       "Algeria              2020-03-28      454.0       31.0    29.0\n",
       "Andorra              2020-03-28      308.0        1.0     3.0\n",
       "Angola               2020-03-28        5.0        0.0     0.0\n",
       "Antigua and Barbuda  2020-03-28        7.0        0.0     0.0\n",
       "Argentina            2020-03-28      690.0       72.0    18.0\n",
       "Armenia              2020-03-28      407.0       30.0     1.0\n",
       "Australia            2020-03-28     3640.0      244.0    14.0\n",
       "Austria              2020-03-28     8271.0      225.0    68.0\n",
       "Azerbaijan           2020-03-28      182.0       15.0     4.0\n",
       "Bahamas              2020-03-28       10.0        1.0     0.0\n",
       "Bahrain              2020-03-28      476.0      265.0     4.0\n",
       "Bangladesh           2020-03-28       48.0       15.0     5.0\n",
       "Barbados             2020-03-28       26.0        0.0     0.0\n",
       "Belarus              2020-03-28       94.0       32.0     0.0\n",
       "Belgium              2020-03-28     9134.0     1063.0   353.0\n",
       "Belize               2020-03-28        2.0        0.0     0.0\n",
       "Benin                2020-03-28        6.0        0.0     0.0\n",
       "Bhutan               2020-03-28        3.0        0.0     0.0"
      ]
     },
     "execution_count": 131,
     "metadata": {},
     "output_type": "execute_result"
    }
   ],
   "source": [
    "TotalConfirmedCasesYesterday.head(20)"
   ]
  },
  {
   "cell_type": "code",
   "execution_count": 132,
   "metadata": {},
   "outputs": [],
   "source": [
    "#populacja krajów świata\n",
    "TotalPopulation = pd.read_csv('https://raw.githubusercontent.com/cjekel/countryPopulationDensity/master/data/countryPopDensity.csv', usecols=[\"Country\", \"Population\"], index_col=\"Country\")"
   ]
  },
  {
   "cell_type": "code",
   "execution_count": 133,
   "metadata": {},
   "outputs": [
    {
     "data": {
      "text/html": [
       "<div>\n",
       "<style scoped>\n",
       "    .dataframe tbody tr th:only-of-type {\n",
       "        vertical-align: middle;\n",
       "    }\n",
       "\n",
       "    .dataframe tbody tr th {\n",
       "        vertical-align: top;\n",
       "    }\n",
       "\n",
       "    .dataframe thead th {\n",
       "        text-align: right;\n",
       "    }\n",
       "</style>\n",
       "<table border=\"1\" class=\"dataframe\">\n",
       "  <thead>\n",
       "    <tr style=\"text-align: right;\">\n",
       "      <th></th>\n",
       "      <th>Population</th>\n",
       "    </tr>\n",
       "    <tr>\n",
       "      <th>Country</th>\n",
       "      <th></th>\n",
       "    </tr>\n",
       "  </thead>\n",
       "  <tbody>\n",
       "    <tr>\n",
       "      <td>Macau</td>\n",
       "      <td>592731.0</td>\n",
       "    </tr>\n",
       "    <tr>\n",
       "      <td>Monaco</td>\n",
       "      <td>30535.0</td>\n",
       "    </tr>\n",
       "    <tr>\n",
       "      <td>Singapore</td>\n",
       "      <td>5674472.0</td>\n",
       "    </tr>\n",
       "    <tr>\n",
       "      <td>Hong Kong</td>\n",
       "      <td>7141106.0</td>\n",
       "    </tr>\n",
       "    <tr>\n",
       "      <td>Gaza Strip</td>\n",
       "      <td>1869055.0</td>\n",
       "    </tr>\n",
       "    <tr>\n",
       "      <td>...</td>\n",
       "      <td>...</td>\n",
       "    </tr>\n",
       "    <tr>\n",
       "      <td>Mongolia</td>\n",
       "      <td>2992908.0</td>\n",
       "    </tr>\n",
       "    <tr>\n",
       "      <td>Pitcairn Islands</td>\n",
       "      <td>48.0</td>\n",
       "    </tr>\n",
       "    <tr>\n",
       "      <td>Falkland Islands (Islas Malvinas)</td>\n",
       "      <td>3361.0</td>\n",
       "    </tr>\n",
       "    <tr>\n",
       "      <td>Svalbard</td>\n",
       "      <td>1872.0</td>\n",
       "    </tr>\n",
       "    <tr>\n",
       "      <td>Greenland</td>\n",
       "      <td>57733.0</td>\n",
       "    </tr>\n",
       "  </tbody>\n",
       "</table>\n",
       "<p>235 rows × 1 columns</p>\n",
       "</div>"
      ],
      "text/plain": [
       "                                   Population\n",
       "Country                                      \n",
       "Macau                                592731.0\n",
       "Monaco                                30535.0\n",
       "Singapore                           5674472.0\n",
       "Hong Kong                           7141106.0\n",
       "Gaza Strip                          1869055.0\n",
       "...                                       ...\n",
       "Mongolia                            2992908.0\n",
       "Pitcairn Islands                         48.0\n",
       "Falkland Islands (Islas Malvinas)      3361.0\n",
       "Svalbard                               1872.0\n",
       "Greenland                             57733.0\n",
       "\n",
       "[235 rows x 1 columns]"
      ]
     },
     "execution_count": 133,
     "metadata": {},
     "output_type": "execute_result"
    }
   ],
   "source": [
    "TotalPopulation"
   ]
  },
  {
   "cell_type": "code",
   "execution_count": 134,
   "metadata": {},
   "outputs": [],
   "source": [
    "TotalPopulation.sort_index(inplace = True)"
   ]
  },
  {
   "cell_type": "code",
   "execution_count": 135,
   "metadata": {
    "scrolled": true
   },
   "outputs": [
    {
     "data": {
      "text/html": [
       "<div>\n",
       "<style scoped>\n",
       "    .dataframe tbody tr th:only-of-type {\n",
       "        vertical-align: middle;\n",
       "    }\n",
       "\n",
       "    .dataframe tbody tr th {\n",
       "        vertical-align: top;\n",
       "    }\n",
       "\n",
       "    .dataframe thead th {\n",
       "        text-align: right;\n",
       "    }\n",
       "</style>\n",
       "<table border=\"1\" class=\"dataframe\">\n",
       "  <thead>\n",
       "    <tr style=\"text-align: right;\">\n",
       "      <th></th>\n",
       "      <th>Population</th>\n",
       "    </tr>\n",
       "    <tr>\n",
       "      <th>Country</th>\n",
       "      <th></th>\n",
       "    </tr>\n",
       "  </thead>\n",
       "  <tbody>\n",
       "    <tr>\n",
       "      <td>Afghanistan</td>\n",
       "      <td>32564342.0</td>\n",
       "    </tr>\n",
       "    <tr>\n",
       "      <td>Albania</td>\n",
       "      <td>3029278.0</td>\n",
       "    </tr>\n",
       "    <tr>\n",
       "      <td>Algeria</td>\n",
       "      <td>39542166.0</td>\n",
       "    </tr>\n",
       "    <tr>\n",
       "      <td>American Samoa</td>\n",
       "      <td>54343.0</td>\n",
       "    </tr>\n",
       "    <tr>\n",
       "      <td>Andorra</td>\n",
       "      <td>85580.0</td>\n",
       "    </tr>\n",
       "    <tr>\n",
       "      <td>Angola</td>\n",
       "      <td>19625353.0</td>\n",
       "    </tr>\n",
       "    <tr>\n",
       "      <td>Anguilla</td>\n",
       "      <td>16418.0</td>\n",
       "    </tr>\n",
       "    <tr>\n",
       "      <td>Antigua and Barbuda</td>\n",
       "      <td>92436.0</td>\n",
       "    </tr>\n",
       "    <tr>\n",
       "      <td>Argentina</td>\n",
       "      <td>43431886.0</td>\n",
       "    </tr>\n",
       "    <tr>\n",
       "      <td>Armenia</td>\n",
       "      <td>3056382.0</td>\n",
       "    </tr>\n",
       "    <tr>\n",
       "      <td>Aruba</td>\n",
       "      <td>112162.0</td>\n",
       "    </tr>\n",
       "    <tr>\n",
       "      <td>Australia</td>\n",
       "      <td>22751014.0</td>\n",
       "    </tr>\n",
       "    <tr>\n",
       "      <td>Austria</td>\n",
       "      <td>8665550.0</td>\n",
       "    </tr>\n",
       "    <tr>\n",
       "      <td>Azerbaijan</td>\n",
       "      <td>9780780.0</td>\n",
       "    </tr>\n",
       "    <tr>\n",
       "      <td>Bahamas, The</td>\n",
       "      <td>324597.0</td>\n",
       "    </tr>\n",
       "    <tr>\n",
       "      <td>Bahrain</td>\n",
       "      <td>1346613.0</td>\n",
       "    </tr>\n",
       "    <tr>\n",
       "      <td>Bangladesh</td>\n",
       "      <td>168957745.0</td>\n",
       "    </tr>\n",
       "    <tr>\n",
       "      <td>Barbados</td>\n",
       "      <td>290604.0</td>\n",
       "    </tr>\n",
       "    <tr>\n",
       "      <td>Belarus</td>\n",
       "      <td>9589689.0</td>\n",
       "    </tr>\n",
       "    <tr>\n",
       "      <td>Belgium</td>\n",
       "      <td>11323973.0</td>\n",
       "    </tr>\n",
       "  </tbody>\n",
       "</table>\n",
       "</div>"
      ],
      "text/plain": [
       "                      Population\n",
       "Country                         \n",
       "Afghanistan           32564342.0\n",
       "Albania                3029278.0\n",
       "Algeria               39542166.0\n",
       "American Samoa           54343.0\n",
       "Andorra                  85580.0\n",
       "Angola                19625353.0\n",
       "Anguilla                 16418.0\n",
       "Antigua and Barbuda      92436.0\n",
       "Argentina             43431886.0\n",
       "Armenia                3056382.0\n",
       "Aruba                   112162.0\n",
       "Australia             22751014.0\n",
       "Austria                8665550.0\n",
       "Azerbaijan             9780780.0\n",
       "Bahamas, The            324597.0\n",
       "Bahrain                1346613.0\n",
       "Bangladesh           168957745.0\n",
       "Barbados                290604.0\n",
       "Belarus                9589689.0\n",
       "Belgium               11323973.0"
      ]
     },
     "execution_count": 135,
     "metadata": {},
     "output_type": "execute_result"
    }
   ],
   "source": [
    "TotalPopulation.head(20)"
   ]
  },
  {
   "cell_type": "code",
   "execution_count": 136,
   "metadata": {},
   "outputs": [],
   "source": [
    "#PKB krajów świata\n",
    "TotalGDP = pd.read_csv('https://raw.githubusercontent.com/datasets/gdp/master/data/gdp.csv', usecols=[\"Country Name\", \"Value\", \"Year\"], index_col=\"Country Name\")"
   ]
  },
  {
   "cell_type": "code",
   "execution_count": 137,
   "metadata": {},
   "outputs": [
    {
     "data": {
      "text/html": [
       "<div>\n",
       "<style scoped>\n",
       "    .dataframe tbody tr th:only-of-type {\n",
       "        vertical-align: middle;\n",
       "    }\n",
       "\n",
       "    .dataframe tbody tr th {\n",
       "        vertical-align: top;\n",
       "    }\n",
       "\n",
       "    .dataframe thead th {\n",
       "        text-align: right;\n",
       "    }\n",
       "</style>\n",
       "<table border=\"1\" class=\"dataframe\">\n",
       "  <thead>\n",
       "    <tr style=\"text-align: right;\">\n",
       "      <th></th>\n",
       "      <th>Year</th>\n",
       "      <th>Value</th>\n",
       "    </tr>\n",
       "    <tr>\n",
       "      <th>Country Name</th>\n",
       "      <th></th>\n",
       "      <th></th>\n",
       "    </tr>\n",
       "  </thead>\n",
       "  <tbody>\n",
       "    <tr>\n",
       "      <td>Arab World</td>\n",
       "      <td>1968</td>\n",
       "      <td>2.576068e+10</td>\n",
       "    </tr>\n",
       "    <tr>\n",
       "      <td>Arab World</td>\n",
       "      <td>1969</td>\n",
       "      <td>2.843420e+10</td>\n",
       "    </tr>\n",
       "    <tr>\n",
       "      <td>Arab World</td>\n",
       "      <td>1970</td>\n",
       "      <td>3.138550e+10</td>\n",
       "    </tr>\n",
       "    <tr>\n",
       "      <td>Arab World</td>\n",
       "      <td>1971</td>\n",
       "      <td>3.642691e+10</td>\n",
       "    </tr>\n",
       "    <tr>\n",
       "      <td>Arab World</td>\n",
       "      <td>1972</td>\n",
       "      <td>4.331606e+10</td>\n",
       "    </tr>\n",
       "    <tr>\n",
       "      <td>...</td>\n",
       "      <td>...</td>\n",
       "      <td>...</td>\n",
       "    </tr>\n",
       "    <tr>\n",
       "      <td>Zimbabwe</td>\n",
       "      <td>2012</td>\n",
       "      <td>1.424249e+10</td>\n",
       "    </tr>\n",
       "    <tr>\n",
       "      <td>Zimbabwe</td>\n",
       "      <td>2013</td>\n",
       "      <td>1.545177e+10</td>\n",
       "    </tr>\n",
       "    <tr>\n",
       "      <td>Zimbabwe</td>\n",
       "      <td>2014</td>\n",
       "      <td>1.589105e+10</td>\n",
       "    </tr>\n",
       "    <tr>\n",
       "      <td>Zimbabwe</td>\n",
       "      <td>2015</td>\n",
       "      <td>1.630467e+10</td>\n",
       "    </tr>\n",
       "    <tr>\n",
       "      <td>Zimbabwe</td>\n",
       "      <td>2016</td>\n",
       "      <td>1.661996e+10</td>\n",
       "    </tr>\n",
       "  </tbody>\n",
       "</table>\n",
       "<p>11507 rows × 2 columns</p>\n",
       "</div>"
      ],
      "text/plain": [
       "              Year         Value\n",
       "Country Name                    \n",
       "Arab World    1968  2.576068e+10\n",
       "Arab World    1969  2.843420e+10\n",
       "Arab World    1970  3.138550e+10\n",
       "Arab World    1971  3.642691e+10\n",
       "Arab World    1972  4.331606e+10\n",
       "...            ...           ...\n",
       "Zimbabwe      2012  1.424249e+10\n",
       "Zimbabwe      2013  1.545177e+10\n",
       "Zimbabwe      2014  1.589105e+10\n",
       "Zimbabwe      2015  1.630467e+10\n",
       "Zimbabwe      2016  1.661996e+10\n",
       "\n",
       "[11507 rows x 2 columns]"
      ]
     },
     "execution_count": 137,
     "metadata": {},
     "output_type": "execute_result"
    }
   ],
   "source": [
    "TotalGDP"
   ]
  },
  {
   "cell_type": "code",
   "execution_count": 138,
   "metadata": {},
   "outputs": [],
   "source": [
    "#wybieranie danych najbardziej aktualnych - dane z 2016 roku\n",
    "TotalGDP2016 = TotalGDP.where(TotalGDP.Year == 2016).dropna()"
   ]
  },
  {
   "cell_type": "code",
   "execution_count": 139,
   "metadata": {},
   "outputs": [
    {
     "data": {
      "text/html": [
       "<div>\n",
       "<style scoped>\n",
       "    .dataframe tbody tr th:only-of-type {\n",
       "        vertical-align: middle;\n",
       "    }\n",
       "\n",
       "    .dataframe tbody tr th {\n",
       "        vertical-align: top;\n",
       "    }\n",
       "\n",
       "    .dataframe thead th {\n",
       "        text-align: right;\n",
       "    }\n",
       "</style>\n",
       "<table border=\"1\" class=\"dataframe\">\n",
       "  <thead>\n",
       "    <tr style=\"text-align: right;\">\n",
       "      <th></th>\n",
       "      <th>Year</th>\n",
       "      <th>Value</th>\n",
       "    </tr>\n",
       "    <tr>\n",
       "      <th>Country Name</th>\n",
       "      <th></th>\n",
       "      <th></th>\n",
       "    </tr>\n",
       "  </thead>\n",
       "  <tbody>\n",
       "    <tr>\n",
       "      <td>Arab World</td>\n",
       "      <td>2016.0</td>\n",
       "      <td>2.504703e+12</td>\n",
       "    </tr>\n",
       "    <tr>\n",
       "      <td>Caribbean small states</td>\n",
       "      <td>2016.0</td>\n",
       "      <td>6.670736e+10</td>\n",
       "    </tr>\n",
       "    <tr>\n",
       "      <td>Central Europe and the Baltics</td>\n",
       "      <td>2016.0</td>\n",
       "      <td>1.312158e+12</td>\n",
       "    </tr>\n",
       "    <tr>\n",
       "      <td>Early-demographic dividend</td>\n",
       "      <td>2016.0</td>\n",
       "      <td>1.040199e+13</td>\n",
       "    </tr>\n",
       "    <tr>\n",
       "      <td>East Asia &amp; Pacific</td>\n",
       "      <td>2016.0</td>\n",
       "      <td>2.248043e+13</td>\n",
       "    </tr>\n",
       "    <tr>\n",
       "      <td>East Asia &amp; Pacific (excluding high income)</td>\n",
       "      <td>2016.0</td>\n",
       "      <td>1.351244e+13</td>\n",
       "    </tr>\n",
       "    <tr>\n",
       "      <td>East Asia &amp; Pacific (IDA &amp; IBRD countries)</td>\n",
       "      <td>2016.0</td>\n",
       "      <td>1.348649e+13</td>\n",
       "    </tr>\n",
       "    <tr>\n",
       "      <td>Euro area</td>\n",
       "      <td>2016.0</td>\n",
       "      <td>1.193406e+13</td>\n",
       "    </tr>\n",
       "    <tr>\n",
       "      <td>Europe &amp; Central Asia</td>\n",
       "      <td>2016.0</td>\n",
       "      <td>2.027384e+13</td>\n",
       "    </tr>\n",
       "    <tr>\n",
       "      <td>Europe &amp; Central Asia (excluding high income)</td>\n",
       "      <td>2016.0</td>\n",
       "      <td>2.991824e+12</td>\n",
       "    </tr>\n",
       "    <tr>\n",
       "      <td>Europe &amp; Central Asia (IDA &amp; IBRD countries)</td>\n",
       "      <td>2016.0</td>\n",
       "      <td>3.463188e+12</td>\n",
       "    </tr>\n",
       "    <tr>\n",
       "      <td>European Union</td>\n",
       "      <td>2016.0</td>\n",
       "      <td>1.648734e+13</td>\n",
       "    </tr>\n",
       "    <tr>\n",
       "      <td>Fragile and conflict affected situations</td>\n",
       "      <td>2016.0</td>\n",
       "      <td>7.442506e+11</td>\n",
       "    </tr>\n",
       "    <tr>\n",
       "      <td>Heavily indebted poor countries (HIPC)</td>\n",
       "      <td>2016.0</td>\n",
       "      <td>6.482893e+11</td>\n",
       "    </tr>\n",
       "    <tr>\n",
       "      <td>High income</td>\n",
       "      <td>2016.0</td>\n",
       "      <td>4.855746e+13</td>\n",
       "    </tr>\n",
       "    <tr>\n",
       "      <td>IBRD only</td>\n",
       "      <td>2016.0</td>\n",
       "      <td>2.598148e+13</td>\n",
       "    </tr>\n",
       "    <tr>\n",
       "      <td>IDA &amp; IBRD total</td>\n",
       "      <td>2016.0</td>\n",
       "      <td>2.797282e+13</td>\n",
       "    </tr>\n",
       "    <tr>\n",
       "      <td>IDA blend</td>\n",
       "      <td>2016.0</td>\n",
       "      <td>9.236060e+11</td>\n",
       "    </tr>\n",
       "    <tr>\n",
       "      <td>IDA only</td>\n",
       "      <td>2016.0</td>\n",
       "      <td>1.072786e+12</td>\n",
       "    </tr>\n",
       "    <tr>\n",
       "      <td>IDA total</td>\n",
       "      <td>2016.0</td>\n",
       "      <td>1.999808e+12</td>\n",
       "    </tr>\n",
       "  </tbody>\n",
       "</table>\n",
       "</div>"
      ],
      "text/plain": [
       "                                                 Year         Value\n",
       "Country Name                                                       \n",
       "Arab World                                     2016.0  2.504703e+12\n",
       "Caribbean small states                         2016.0  6.670736e+10\n",
       "Central Europe and the Baltics                 2016.0  1.312158e+12\n",
       "Early-demographic dividend                     2016.0  1.040199e+13\n",
       "East Asia & Pacific                            2016.0  2.248043e+13\n",
       "East Asia & Pacific (excluding high income)    2016.0  1.351244e+13\n",
       "East Asia & Pacific (IDA & IBRD countries)     2016.0  1.348649e+13\n",
       "Euro area                                      2016.0  1.193406e+13\n",
       "Europe & Central Asia                          2016.0  2.027384e+13\n",
       "Europe & Central Asia (excluding high income)  2016.0  2.991824e+12\n",
       "Europe & Central Asia (IDA & IBRD countries)   2016.0  3.463188e+12\n",
       "European Union                                 2016.0  1.648734e+13\n",
       "Fragile and conflict affected situations       2016.0  7.442506e+11\n",
       "Heavily indebted poor countries (HIPC)         2016.0  6.482893e+11\n",
       "High income                                    2016.0  4.855746e+13\n",
       "IBRD only                                      2016.0  2.598148e+13\n",
       "IDA & IBRD total                               2016.0  2.797282e+13\n",
       "IDA blend                                      2016.0  9.236060e+11\n",
       "IDA only                                       2016.0  1.072786e+12\n",
       "IDA total                                      2016.0  1.999808e+12"
      ]
     },
     "execution_count": 139,
     "metadata": {},
     "output_type": "execute_result"
    }
   ],
   "source": [
    "TotalGDP2016.head(20)"
   ]
  },
  {
   "cell_type": "code",
   "execution_count": 140,
   "metadata": {},
   "outputs": [],
   "source": [
    "#gęstość zaludnienia krajów świata\n",
    "TotalDensity = pd.read_csv('https://raw.githubusercontent.com/cjekel/countryPopulationDensity/master/data/countryPopDensity.csv', usecols = [\"Country\", \"Population Density per sq km\"], index_col = \"Country\")"
   ]
  },
  {
   "cell_type": "code",
   "execution_count": 141,
   "metadata": {},
   "outputs": [
    {
     "data": {
      "text/html": [
       "<div>\n",
       "<style scoped>\n",
       "    .dataframe tbody tr th:only-of-type {\n",
       "        vertical-align: middle;\n",
       "    }\n",
       "\n",
       "    .dataframe tbody tr th {\n",
       "        vertical-align: top;\n",
       "    }\n",
       "\n",
       "    .dataframe thead th {\n",
       "        text-align: right;\n",
       "    }\n",
       "</style>\n",
       "<table border=\"1\" class=\"dataframe\">\n",
       "  <thead>\n",
       "    <tr style=\"text-align: right;\">\n",
       "      <th></th>\n",
       "      <th>Population Density per sq km</th>\n",
       "    </tr>\n",
       "    <tr>\n",
       "      <th>Country</th>\n",
       "      <th></th>\n",
       "    </tr>\n",
       "  </thead>\n",
       "  <tbody>\n",
       "    <tr>\n",
       "      <td>Macau</td>\n",
       "      <td>21168.964286</td>\n",
       "    </tr>\n",
       "    <tr>\n",
       "      <td>Monaco</td>\n",
       "      <td>15267.500000</td>\n",
       "    </tr>\n",
       "    <tr>\n",
       "      <td>Singapore</td>\n",
       "      <td>8141.279770</td>\n",
       "    </tr>\n",
       "    <tr>\n",
       "      <td>Hong Kong</td>\n",
       "      <td>6445.041516</td>\n",
       "    </tr>\n",
       "    <tr>\n",
       "      <td>Gaza Strip</td>\n",
       "      <td>5191.819444</td>\n",
       "    </tr>\n",
       "    <tr>\n",
       "      <td>...</td>\n",
       "      <td>...</td>\n",
       "    </tr>\n",
       "    <tr>\n",
       "      <td>Mongolia</td>\n",
       "      <td>1.913482</td>\n",
       "    </tr>\n",
       "    <tr>\n",
       "      <td>Pitcairn Islands</td>\n",
       "      <td>1.021277</td>\n",
       "    </tr>\n",
       "    <tr>\n",
       "      <td>Falkland Islands (Islas Malvinas)</td>\n",
       "      <td>0.276103</td>\n",
       "    </tr>\n",
       "    <tr>\n",
       "      <td>Svalbard</td>\n",
       "      <td>0.030172</td>\n",
       "    </tr>\n",
       "    <tr>\n",
       "      <td>Greenland</td>\n",
       "      <td>0.026653</td>\n",
       "    </tr>\n",
       "  </tbody>\n",
       "</table>\n",
       "<p>235 rows × 1 columns</p>\n",
       "</div>"
      ],
      "text/plain": [
       "                                   Population Density per sq km\n",
       "Country                                                        \n",
       "Macau                                              21168.964286\n",
       "Monaco                                             15267.500000\n",
       "Singapore                                           8141.279770\n",
       "Hong Kong                                           6445.041516\n",
       "Gaza Strip                                          5191.819444\n",
       "...                                                         ...\n",
       "Mongolia                                               1.913482\n",
       "Pitcairn Islands                                       1.021277\n",
       "Falkland Islands (Islas Malvinas)                      0.276103\n",
       "Svalbard                                               0.030172\n",
       "Greenland                                              0.026653\n",
       "\n",
       "[235 rows x 1 columns]"
      ]
     },
     "execution_count": 141,
     "metadata": {},
     "output_type": "execute_result"
    }
   ],
   "source": [
    "TotalDensity"
   ]
  },
  {
   "cell_type": "code",
   "execution_count": 142,
   "metadata": {},
   "outputs": [],
   "source": [
    "TotalDensity.sort_index(inplace = True)"
   ]
  },
  {
   "cell_type": "code",
   "execution_count": 143,
   "metadata": {},
   "outputs": [
    {
     "data": {
      "text/html": [
       "<div>\n",
       "<style scoped>\n",
       "    .dataframe tbody tr th:only-of-type {\n",
       "        vertical-align: middle;\n",
       "    }\n",
       "\n",
       "    .dataframe tbody tr th {\n",
       "        vertical-align: top;\n",
       "    }\n",
       "\n",
       "    .dataframe thead th {\n",
       "        text-align: right;\n",
       "    }\n",
       "</style>\n",
       "<table border=\"1\" class=\"dataframe\">\n",
       "  <thead>\n",
       "    <tr style=\"text-align: right;\">\n",
       "      <th></th>\n",
       "      <th>Population Density per sq km</th>\n",
       "    </tr>\n",
       "    <tr>\n",
       "      <th>Country</th>\n",
       "      <th></th>\n",
       "    </tr>\n",
       "  </thead>\n",
       "  <tbody>\n",
       "    <tr>\n",
       "      <td>Afghanistan</td>\n",
       "      <td>49.927697</td>\n",
       "    </tr>\n",
       "    <tr>\n",
       "      <td>Albania</td>\n",
       "      <td>105.373522</td>\n",
       "    </tr>\n",
       "    <tr>\n",
       "      <td>Algeria</td>\n",
       "      <td>16.602211</td>\n",
       "    </tr>\n",
       "    <tr>\n",
       "      <td>American Samoa</td>\n",
       "      <td>273.080402</td>\n",
       "    </tr>\n",
       "    <tr>\n",
       "      <td>Andorra</td>\n",
       "      <td>182.863248</td>\n",
       "    </tr>\n",
       "    <tr>\n",
       "      <td>Angola</td>\n",
       "      <td>15.741841</td>\n",
       "    </tr>\n",
       "    <tr>\n",
       "      <td>Anguilla</td>\n",
       "      <td>180.417582</td>\n",
       "    </tr>\n",
       "    <tr>\n",
       "      <td>Antigua and Barbuda</td>\n",
       "      <td>208.659142</td>\n",
       "    </tr>\n",
       "    <tr>\n",
       "      <td>Argentina</td>\n",
       "      <td>15.620733</td>\n",
       "    </tr>\n",
       "    <tr>\n",
       "      <td>Armenia</td>\n",
       "      <td>102.759708</td>\n",
       "    </tr>\n",
       "    <tr>\n",
       "      <td>Aruba</td>\n",
       "      <td>623.122222</td>\n",
       "    </tr>\n",
       "    <tr>\n",
       "      <td>Australia</td>\n",
       "      <td>2.938944</td>\n",
       "    </tr>\n",
       "    <tr>\n",
       "      <td>Austria</td>\n",
       "      <td>103.319979</td>\n",
       "    </tr>\n",
       "    <tr>\n",
       "      <td>Azerbaijan</td>\n",
       "      <td>112.942032</td>\n",
       "    </tr>\n",
       "    <tr>\n",
       "      <td>Bahamas, The</td>\n",
       "      <td>23.385951</td>\n",
       "    </tr>\n",
       "    <tr>\n",
       "      <td>Bahrain</td>\n",
       "      <td>1771.859211</td>\n",
       "    </tr>\n",
       "    <tr>\n",
       "      <td>Bangladesh</td>\n",
       "      <td>1173.333970</td>\n",
       "    </tr>\n",
       "    <tr>\n",
       "      <td>Barbados</td>\n",
       "      <td>675.823256</td>\n",
       "    </tr>\n",
       "    <tr>\n",
       "      <td>Belarus</td>\n",
       "      <td>46.193107</td>\n",
       "    </tr>\n",
       "    <tr>\n",
       "      <td>Belgium</td>\n",
       "      <td>370.937271</td>\n",
       "    </tr>\n",
       "  </tbody>\n",
       "</table>\n",
       "</div>"
      ],
      "text/plain": [
       "                     Population Density per sq km\n",
       "Country                                          \n",
       "Afghanistan                             49.927697\n",
       "Albania                                105.373522\n",
       "Algeria                                 16.602211\n",
       "American Samoa                         273.080402\n",
       "Andorra                                182.863248\n",
       "Angola                                  15.741841\n",
       "Anguilla                               180.417582\n",
       "Antigua and Barbuda                    208.659142\n",
       "Argentina                               15.620733\n",
       "Armenia                                102.759708\n",
       "Aruba                                  623.122222\n",
       "Australia                                2.938944\n",
       "Austria                                103.319979\n",
       "Azerbaijan                             112.942032\n",
       "Bahamas, The                            23.385951\n",
       "Bahrain                               1771.859211\n",
       "Bangladesh                            1173.333970\n",
       "Barbados                               675.823256\n",
       "Belarus                                 46.193107\n",
       "Belgium                                370.937271"
      ]
     },
     "execution_count": 143,
     "metadata": {},
     "output_type": "execute_result"
    }
   ],
   "source": [
    "TotalDensity.head(20)"
   ]
  },
  {
   "cell_type": "code",
   "execution_count": 144,
   "metadata": {},
   "outputs": [],
   "source": [
    "#średni wiek\n",
    "TotalMedianAge = pd.read_csv('https://raw.githubusercontent.com/PatrykJanSozanski/Data/master/MedianAge', usecols = [\"Entity\", \"Median Age (years)\", \"Year\"], index_col = \"Entity\")"
   ]
  },
  {
   "cell_type": "code",
   "execution_count": 145,
   "metadata": {},
   "outputs": [
    {
     "data": {
      "text/html": [
       "<div>\n",
       "<style scoped>\n",
       "    .dataframe tbody tr th:only-of-type {\n",
       "        vertical-align: middle;\n",
       "    }\n",
       "\n",
       "    .dataframe tbody tr th {\n",
       "        vertical-align: top;\n",
       "    }\n",
       "\n",
       "    .dataframe thead th {\n",
       "        text-align: right;\n",
       "    }\n",
       "</style>\n",
       "<table border=\"1\" class=\"dataframe\">\n",
       "  <thead>\n",
       "    <tr style=\"text-align: right;\">\n",
       "      <th></th>\n",
       "      <th>Year</th>\n",
       "      <th>Median Age (years)</th>\n",
       "    </tr>\n",
       "    <tr>\n",
       "      <th>Entity</th>\n",
       "      <th></th>\n",
       "      <th></th>\n",
       "    </tr>\n",
       "  </thead>\n",
       "  <tbody>\n",
       "    <tr>\n",
       "      <td>Afghanistan</td>\n",
       "      <td>1950</td>\n",
       "      <td>19.400000</td>\n",
       "    </tr>\n",
       "    <tr>\n",
       "      <td>Afghanistan</td>\n",
       "      <td>1955</td>\n",
       "      <td>19.200001</td>\n",
       "    </tr>\n",
       "    <tr>\n",
       "      <td>Afghanistan</td>\n",
       "      <td>1960</td>\n",
       "      <td>18.799999</td>\n",
       "    </tr>\n",
       "    <tr>\n",
       "      <td>Afghanistan</td>\n",
       "      <td>1965</td>\n",
       "      <td>18.400000</td>\n",
       "    </tr>\n",
       "    <tr>\n",
       "      <td>Afghanistan</td>\n",
       "      <td>1970</td>\n",
       "      <td>17.900000</td>\n",
       "    </tr>\n",
       "    <tr>\n",
       "      <td>...</td>\n",
       "      <td>...</td>\n",
       "      <td>...</td>\n",
       "    </tr>\n",
       "    <tr>\n",
       "      <td>Zimbabwe</td>\n",
       "      <td>2080</td>\n",
       "      <td>36.299999</td>\n",
       "    </tr>\n",
       "    <tr>\n",
       "      <td>Zimbabwe</td>\n",
       "      <td>2085</td>\n",
       "      <td>37.700001</td>\n",
       "    </tr>\n",
       "    <tr>\n",
       "      <td>Zimbabwe</td>\n",
       "      <td>2090</td>\n",
       "      <td>39.000000</td>\n",
       "    </tr>\n",
       "    <tr>\n",
       "      <td>Zimbabwe</td>\n",
       "      <td>2095</td>\n",
       "      <td>40.099998</td>\n",
       "    </tr>\n",
       "    <tr>\n",
       "      <td>Zimbabwe</td>\n",
       "      <td>2100</td>\n",
       "      <td>41.099998</td>\n",
       "    </tr>\n",
       "  </tbody>\n",
       "</table>\n",
       "<p>7471 rows × 2 columns</p>\n",
       "</div>"
      ],
      "text/plain": [
       "             Year  Median Age (years)\n",
       "Entity                               \n",
       "Afghanistan  1950           19.400000\n",
       "Afghanistan  1955           19.200001\n",
       "Afghanistan  1960           18.799999\n",
       "Afghanistan  1965           18.400000\n",
       "Afghanistan  1970           17.900000\n",
       "...           ...                 ...\n",
       "Zimbabwe     2080           36.299999\n",
       "Zimbabwe     2085           37.700001\n",
       "Zimbabwe     2090           39.000000\n",
       "Zimbabwe     2095           40.099998\n",
       "Zimbabwe     2100           41.099998\n",
       "\n",
       "[7471 rows x 2 columns]"
      ]
     },
     "execution_count": 145,
     "metadata": {},
     "output_type": "execute_result"
    }
   ],
   "source": [
    "TotalMedianAge"
   ]
  },
  {
   "cell_type": "code",
   "execution_count": 146,
   "metadata": {},
   "outputs": [],
   "source": [
    "#wybieranie danych najbardziej aktualnych - dane z 2020 roku\n",
    "TotalMedianAge2020 = TotalMedianAge.where(TotalMedianAge.Year == 2020).dropna()"
   ]
  },
  {
   "cell_type": "code",
   "execution_count": 147,
   "metadata": {},
   "outputs": [
    {
     "data": {
      "text/html": [
       "<div>\n",
       "<style scoped>\n",
       "    .dataframe tbody tr th:only-of-type {\n",
       "        vertical-align: middle;\n",
       "    }\n",
       "\n",
       "    .dataframe tbody tr th {\n",
       "        vertical-align: top;\n",
       "    }\n",
       "\n",
       "    .dataframe thead th {\n",
       "        text-align: right;\n",
       "    }\n",
       "</style>\n",
       "<table border=\"1\" class=\"dataframe\">\n",
       "  <thead>\n",
       "    <tr style=\"text-align: right;\">\n",
       "      <th></th>\n",
       "      <th>Year</th>\n",
       "      <th>Median Age (years)</th>\n",
       "    </tr>\n",
       "    <tr>\n",
       "      <th>Entity</th>\n",
       "      <th></th>\n",
       "      <th></th>\n",
       "    </tr>\n",
       "  </thead>\n",
       "  <tbody>\n",
       "    <tr>\n",
       "      <td>Afghanistan</td>\n",
       "      <td>2020.0</td>\n",
       "      <td>18.600000</td>\n",
       "    </tr>\n",
       "    <tr>\n",
       "      <td>Africa</td>\n",
       "      <td>2020.0</td>\n",
       "      <td>19.799999</td>\n",
       "    </tr>\n",
       "    <tr>\n",
       "      <td>Albania</td>\n",
       "      <td>2020.0</td>\n",
       "      <td>38.000000</td>\n",
       "    </tr>\n",
       "    <tr>\n",
       "      <td>Algeria</td>\n",
       "      <td>2020.0</td>\n",
       "      <td>29.100000</td>\n",
       "    </tr>\n",
       "    <tr>\n",
       "      <td>Angola</td>\n",
       "      <td>2020.0</td>\n",
       "      <td>16.799999</td>\n",
       "    </tr>\n",
       "    <tr>\n",
       "      <td>...</td>\n",
       "      <td>...</td>\n",
       "      <td>...</td>\n",
       "    </tr>\n",
       "    <tr>\n",
       "      <td>Western Sahara</td>\n",
       "      <td>2020.0</td>\n",
       "      <td>28.400000</td>\n",
       "    </tr>\n",
       "    <tr>\n",
       "      <td>World</td>\n",
       "      <td>2020.0</td>\n",
       "      <td>30.900000</td>\n",
       "    </tr>\n",
       "    <tr>\n",
       "      <td>Yemen</td>\n",
       "      <td>2020.0</td>\n",
       "      <td>20.299999</td>\n",
       "    </tr>\n",
       "    <tr>\n",
       "      <td>Zambia</td>\n",
       "      <td>2020.0</td>\n",
       "      <td>17.700001</td>\n",
       "    </tr>\n",
       "    <tr>\n",
       "      <td>Zimbabwe</td>\n",
       "      <td>2020.0</td>\n",
       "      <td>19.600000</td>\n",
       "    </tr>\n",
       "  </tbody>\n",
       "</table>\n",
       "<p>241 rows × 2 columns</p>\n",
       "</div>"
      ],
      "text/plain": [
       "                  Year  Median Age (years)\n",
       "Entity                                    \n",
       "Afghanistan     2020.0           18.600000\n",
       "Africa          2020.0           19.799999\n",
       "Albania         2020.0           38.000000\n",
       "Algeria         2020.0           29.100000\n",
       "Angola          2020.0           16.799999\n",
       "...                ...                 ...\n",
       "Western Sahara  2020.0           28.400000\n",
       "World           2020.0           30.900000\n",
       "Yemen           2020.0           20.299999\n",
       "Zambia          2020.0           17.700001\n",
       "Zimbabwe        2020.0           19.600000\n",
       "\n",
       "[241 rows x 2 columns]"
      ]
     },
     "execution_count": 147,
     "metadata": {},
     "output_type": "execute_result"
    }
   ],
   "source": [
    "TotalMedianAge2020"
   ]
  },
  {
   "cell_type": "code",
   "execution_count": 148,
   "metadata": {},
   "outputs": [],
   "source": [
    "#lista krajów, na których przeprowadzam analizę\n",
    "Countries = TotalConfirmedCasesYesterday.index"
   ]
  },
  {
   "cell_type": "code",
   "execution_count": 149,
   "metadata": {},
   "outputs": [
    {
     "data": {
      "text/plain": [
       "Index(['Afghanistan', 'Albania', 'Algeria', 'Andorra', 'Angola',\n",
       "       'Antigua and Barbuda', 'Argentina', 'Armenia', 'Australia', 'Austria',\n",
       "       ...\n",
       "       'Ukraine', 'United Arab Emirates', 'United Kingdom', 'Uruguay',\n",
       "       'Uzbekistan', 'Venezuela', 'Vietnam', 'West Bank and Gaza', 'Zambia',\n",
       "       'Zimbabwe'],\n",
       "      dtype='object', name='Country', length=176)"
      ]
     },
     "execution_count": 149,
     "metadata": {},
     "output_type": "execute_result"
    }
   ],
   "source": [
    "Countries"
   ]
  },
  {
   "cell_type": "code",
   "execution_count": 150,
   "metadata": {},
   "outputs": [],
   "source": [
    "#dane w postaci Serii Danych\n",
    "ConfirmedSeries = TotalConfirmedCasesYesterday.Confirmed\n",
    "RecoveredSeries = TotalConfirmedCasesYesterday.Recovered\n",
    "DeathsSeries = TotalConfirmedCasesYesterday.Deaths"
   ]
  },
  {
   "cell_type": "code",
   "execution_count": 151,
   "metadata": {},
   "outputs": [
    {
     "data": {
      "text/plain": [
       "Country\n",
       "Taiwan*                    283.0\n",
       "Tanzania                    14.0\n",
       "Thailand                  1245.0\n",
       "Timor-Leste                  1.0\n",
       "Togo                        25.0\n",
       "Trinidad and Tobago         74.0\n",
       "Tunisia                    278.0\n",
       "Turkey                    7402.0\n",
       "US                      121478.0\n",
       "Uganda                      30.0\n",
       "Ukraine                    356.0\n",
       "United Arab Emirates       468.0\n",
       "United Kingdom           17312.0\n",
       "Uruguay                    274.0\n",
       "Uzbekistan                 104.0\n",
       "Venezuela                  119.0\n",
       "Vietnam                    174.0\n",
       "West Bank and Gaza          98.0\n",
       "Zambia                      28.0\n",
       "Zimbabwe                     7.0\n",
       "Name: Confirmed, dtype: float64"
      ]
     },
     "execution_count": 151,
     "metadata": {},
     "output_type": "execute_result"
    }
   ],
   "source": [
    "ConfirmedSeries.tail(20)"
   ]
  },
  {
   "cell_type": "code",
   "execution_count": 152,
   "metadata": {},
   "outputs": [
    {
     "data": {
      "text/plain": [
       "Country\n",
       "Taiwan*                   30.0\n",
       "Tanzania                   1.0\n",
       "Thailand                  97.0\n",
       "Timor-Leste                0.0\n",
       "Togo                       1.0\n",
       "Trinidad and Tobago        1.0\n",
       "Tunisia                    2.0\n",
       "Turkey                    70.0\n",
       "US                      1072.0\n",
       "Uganda                     0.0\n",
       "Ukraine                    5.0\n",
       "United Arab Emirates      52.0\n",
       "United Kingdom           151.0\n",
       "Uruguay                    0.0\n",
       "Uzbekistan                 5.0\n",
       "Venezuela                 39.0\n",
       "Vietnam                   21.0\n",
       "West Bank and Gaza        18.0\n",
       "Zambia                     0.0\n",
       "Zimbabwe                   0.0\n",
       "Name: Recovered, dtype: float64"
      ]
     },
     "execution_count": 152,
     "metadata": {},
     "output_type": "execute_result"
    }
   ],
   "source": [
    "RecoveredSeries.tail(20)"
   ]
  },
  {
   "cell_type": "code",
   "execution_count": 153,
   "metadata": {},
   "outputs": [
    {
     "data": {
      "text/plain": [
       "Country\n",
       "Taiwan*                    2.0\n",
       "Tanzania                   0.0\n",
       "Thailand                   6.0\n",
       "Timor-Leste                0.0\n",
       "Togo                       1.0\n",
       "Trinidad and Tobago        3.0\n",
       "Tunisia                    8.0\n",
       "Turkey                   108.0\n",
       "US                      2026.0\n",
       "Uganda                     0.0\n",
       "Ukraine                    9.0\n",
       "United Arab Emirates       2.0\n",
       "United Kingdom          1021.0\n",
       "Uruguay                    0.0\n",
       "Uzbekistan                 2.0\n",
       "Venezuela                  2.0\n",
       "Vietnam                    0.0\n",
       "West Bank and Gaza         1.0\n",
       "Zambia                     0.0\n",
       "Zimbabwe                   1.0\n",
       "Name: Deaths, dtype: float64"
      ]
     },
     "execution_count": 153,
     "metadata": {},
     "output_type": "execute_result"
    }
   ],
   "source": [
    "DeathsSeries.tail(20)"
   ]
  },
  {
   "cell_type": "code",
   "execution_count": 154,
   "metadata": {},
   "outputs": [],
   "source": [
    "#dane w postaci Serii Danych, ujednolicenie indeksów\n",
    "PopulationSeries = TotalPopulation.reindex(Countries)[\"Population\"]\n",
    "GDPSeries = TotalGDP2016.reindex(Countries)[\"Value\"]\n",
    "DensitySeries = TotalDensity.reindex(Countries)[\"Population Density per sq km\"]\n",
    "MedianAgeSeries = TotalMedianAge2020.reindex(Countries)[\"Median Age (years)\"]"
   ]
  },
  {
   "cell_type": "code",
   "execution_count": 155,
   "metadata": {},
   "outputs": [
    {
     "data": {
      "text/plain": [
       "Country\n",
       "Taiwan*                        NaN\n",
       "Tanzania                51045882.0\n",
       "Thailand                67976405.0\n",
       "Timor-Leste              1231116.0\n",
       "Togo                     7552318.0\n",
       "Trinidad and Tobago      1222363.0\n",
       "Tunisia                 11037225.0\n",
       "Turkey                  79414269.0\n",
       "US                             NaN\n",
       "Uganda                  37101745.0\n",
       "Ukraine                 44429471.0\n",
       "United Arab Emirates     5779760.0\n",
       "United Kingdom          64088222.0\n",
       "Uruguay                  3341893.0\n",
       "Uzbekistan              29199942.0\n",
       "Venezuela               29275460.0\n",
       "Vietnam                 94348835.0\n",
       "West Bank and Gaza             NaN\n",
       "Zambia                  15066266.0\n",
       "Zimbabwe                14229541.0\n",
       "Name: Population, dtype: float64"
      ]
     },
     "execution_count": 155,
     "metadata": {},
     "output_type": "execute_result"
    }
   ],
   "source": [
    "PopulationSeries.tail(20)"
   ]
  },
  {
   "cell_type": "code",
   "execution_count": 156,
   "metadata": {},
   "outputs": [
    {
     "data": {
      "text/plain": [
       "Country\n",
       "Taiwan*                          NaN\n",
       "Tanzania                4.734007e+10\n",
       "Thailand                4.070261e+11\n",
       "Timor-Leste             1.782974e+09\n",
       "Togo                    4.399996e+09\n",
       "Trinidad and Tobago     2.189471e+10\n",
       "Tunisia                 4.206255e+10\n",
       "Turkey                  8.637117e+11\n",
       "US                               NaN\n",
       "Uganda                  2.407893e+10\n",
       "Ukraine                 9.327048e+10\n",
       "United Arab Emirates    3.487433e+11\n",
       "United Kingdom          2.647899e+12\n",
       "Uruguay                 5.241972e+10\n",
       "Uzbekistan              6.722034e+10\n",
       "Venezuela                        NaN\n",
       "Vietnam                 2.052762e+11\n",
       "West Bank and Gaza      1.339710e+10\n",
       "Zambia                  2.106399e+10\n",
       "Zimbabwe                1.661996e+10\n",
       "Name: Value, dtype: float64"
      ]
     },
     "execution_count": 156,
     "metadata": {},
     "output_type": "execute_result"
    }
   ],
   "source": [
    "GDPSeries.tail(20)"
   ]
  },
  {
   "cell_type": "code",
   "execution_count": 157,
   "metadata": {},
   "outputs": [
    {
     "data": {
      "text/plain": [
       "Country\n",
       "Taiwan*                        NaN\n",
       "Tanzania                 53.885656\n",
       "Thailand                132.476623\n",
       "Timor-Leste              82.769665\n",
       "Togo                    132.998468\n",
       "Trinidad and Tobago     238.370320\n",
       "Tunisia                  67.460577\n",
       "Turkey                  101.350332\n",
       "US                             NaN\n",
       "Uganda                  153.924879\n",
       "Ukraine                  73.613571\n",
       "United Arab Emirates     69.135885\n",
       "United Kingdom          263.077140\n",
       "Uruguay                  18.964861\n",
       "Uzbekistan               65.265852\n",
       "Venezuela                32.098525\n",
       "Vietnam                 284.861070\n",
       "West Bank and Gaza             NaN\n",
       "Zambia                   20.018477\n",
       "Zimbabwe                 36.415319\n",
       "Name: Population Density per sq km, dtype: float64"
      ]
     },
     "execution_count": 157,
     "metadata": {},
     "output_type": "execute_result"
    }
   ],
   "source": [
    "DensitySeries.tail(20)"
   ]
  },
  {
   "cell_type": "code",
   "execution_count": 158,
   "metadata": {},
   "outputs": [
    {
     "data": {
      "text/plain": [
       "Country\n",
       "Taiwan*                       NaN\n",
       "Tanzania                17.700001\n",
       "Thailand                40.099998\n",
       "Timor-Leste                   NaN\n",
       "Togo                    19.400000\n",
       "Trinidad and Tobago     36.200001\n",
       "Tunisia                 32.700001\n",
       "Turkey                  31.600000\n",
       "US                            NaN\n",
       "Uganda                  16.400000\n",
       "Ukraine                 41.400002\n",
       "United Arab Emirates    34.000000\n",
       "United Kingdom          40.799999\n",
       "Uruguay                 35.599998\n",
       "Uzbekistan              28.200001\n",
       "Venezuela               29.000000\n",
       "Vietnam                 32.599998\n",
       "West Bank and Gaza            NaN\n",
       "Zambia                  17.700001\n",
       "Zimbabwe                19.600000\n",
       "Name: Median Age (years), dtype: float64"
      ]
     },
     "execution_count": 158,
     "metadata": {},
     "output_type": "execute_result"
    }
   ],
   "source": [
    "MedianAgeSeries.tail(20)"
   ]
  },
  {
   "cell_type": "code",
   "execution_count": 159,
   "metadata": {},
   "outputs": [],
   "source": [
    "#tworzenie własnej serii 'GDP per capita'\n",
    "GDPPerCapitaSeries = GDPSeries / PopulationSeries"
   ]
  },
  {
   "cell_type": "code",
   "execution_count": 160,
   "metadata": {},
   "outputs": [
    {
     "data": {
      "text/plain": [
       "Country\n",
       "Venezuela                     NaN\n",
       "Vietnam               2175.714964\n",
       "West Bank and Gaza            NaN\n",
       "Zambia                1398.089592\n",
       "Zimbabwe              1167.989916\n",
       "dtype: float64"
      ]
     },
     "execution_count": 160,
     "metadata": {},
     "output_type": "execute_result"
    }
   ],
   "source": [
    "GDPPerCapitaSeries.tail()"
   ]
  },
  {
   "cell_type": "code",
   "execution_count": 161,
   "metadata": {},
   "outputs": [],
   "source": [
    "#zestawienie w postaci nowego obiektu Data Frame\n",
    "frame = {'Confirmed' : ConfirmedSeries, 'Recovered' : RecoveredSeries, 'Deaths' : DeathsSeries, 'Population' : PopulationSeries, 'Density' : DensitySeries, 'GDP' : GDPSeries, 'GDP per capita' : GDPPerCapitaSeries ,'Median Age' : MedianAgeSeries}\n",
    "Collation = pd.DataFrame(frame)"
   ]
  },
  {
   "cell_type": "code",
   "execution_count": 162,
   "metadata": {},
   "outputs": [
    {
     "data": {
      "text/html": [
       "<div>\n",
       "<style scoped>\n",
       "    .dataframe tbody tr th:only-of-type {\n",
       "        vertical-align: middle;\n",
       "    }\n",
       "\n",
       "    .dataframe tbody tr th {\n",
       "        vertical-align: top;\n",
       "    }\n",
       "\n",
       "    .dataframe thead th {\n",
       "        text-align: right;\n",
       "    }\n",
       "</style>\n",
       "<table border=\"1\" class=\"dataframe\">\n",
       "  <thead>\n",
       "    <tr style=\"text-align: right;\">\n",
       "      <th></th>\n",
       "      <th>Confirmed</th>\n",
       "      <th>Recovered</th>\n",
       "      <th>Deaths</th>\n",
       "      <th>Population</th>\n",
       "      <th>Density</th>\n",
       "      <th>GDP</th>\n",
       "      <th>GDP per capita</th>\n",
       "      <th>Median Age</th>\n",
       "    </tr>\n",
       "    <tr>\n",
       "      <th>Country</th>\n",
       "      <th></th>\n",
       "      <th></th>\n",
       "      <th></th>\n",
       "      <th></th>\n",
       "      <th></th>\n",
       "      <th></th>\n",
       "      <th></th>\n",
       "      <th></th>\n",
       "    </tr>\n",
       "  </thead>\n",
       "  <tbody>\n",
       "    <tr>\n",
       "      <td>Afghanistan</td>\n",
       "      <td>110.0</td>\n",
       "      <td>2.0</td>\n",
       "      <td>4.0</td>\n",
       "      <td>32564342.0</td>\n",
       "      <td>49.927697</td>\n",
       "      <td>1.946902e+10</td>\n",
       "      <td>597.863215</td>\n",
       "      <td>18.600000</td>\n",
       "    </tr>\n",
       "    <tr>\n",
       "      <td>Albania</td>\n",
       "      <td>197.0</td>\n",
       "      <td>31.0</td>\n",
       "      <td>10.0</td>\n",
       "      <td>3029278.0</td>\n",
       "      <td>105.373522</td>\n",
       "      <td>1.186387e+10</td>\n",
       "      <td>3916.400534</td>\n",
       "      <td>38.000000</td>\n",
       "    </tr>\n",
       "    <tr>\n",
       "      <td>Algeria</td>\n",
       "      <td>454.0</td>\n",
       "      <td>31.0</td>\n",
       "      <td>29.0</td>\n",
       "      <td>39542166.0</td>\n",
       "      <td>16.602211</td>\n",
       "      <td>1.590491e+11</td>\n",
       "      <td>4022.265668</td>\n",
       "      <td>29.100000</td>\n",
       "    </tr>\n",
       "    <tr>\n",
       "      <td>Andorra</td>\n",
       "      <td>308.0</td>\n",
       "      <td>1.0</td>\n",
       "      <td>3.0</td>\n",
       "      <td>85580.0</td>\n",
       "      <td>182.863248</td>\n",
       "      <td>2.858518e+09</td>\n",
       "      <td>33401.702490</td>\n",
       "      <td>NaN</td>\n",
       "    </tr>\n",
       "    <tr>\n",
       "      <td>Angola</td>\n",
       "      <td>5.0</td>\n",
       "      <td>0.0</td>\n",
       "      <td>0.0</td>\n",
       "      <td>19625353.0</td>\n",
       "      <td>15.741841</td>\n",
       "      <td>9.533511e+10</td>\n",
       "      <td>4857.752711</td>\n",
       "      <td>16.799999</td>\n",
       "    </tr>\n",
       "    <tr>\n",
       "      <td>...</td>\n",
       "      <td>...</td>\n",
       "      <td>...</td>\n",
       "      <td>...</td>\n",
       "      <td>...</td>\n",
       "      <td>...</td>\n",
       "      <td>...</td>\n",
       "      <td>...</td>\n",
       "      <td>...</td>\n",
       "    </tr>\n",
       "    <tr>\n",
       "      <td>Venezuela</td>\n",
       "      <td>119.0</td>\n",
       "      <td>39.0</td>\n",
       "      <td>2.0</td>\n",
       "      <td>29275460.0</td>\n",
       "      <td>32.098525</td>\n",
       "      <td>NaN</td>\n",
       "      <td>NaN</td>\n",
       "      <td>29.000000</td>\n",
       "    </tr>\n",
       "    <tr>\n",
       "      <td>Vietnam</td>\n",
       "      <td>174.0</td>\n",
       "      <td>21.0</td>\n",
       "      <td>0.0</td>\n",
       "      <td>94348835.0</td>\n",
       "      <td>284.861070</td>\n",
       "      <td>2.052762e+11</td>\n",
       "      <td>2175.714964</td>\n",
       "      <td>32.599998</td>\n",
       "    </tr>\n",
       "    <tr>\n",
       "      <td>West Bank and Gaza</td>\n",
       "      <td>98.0</td>\n",
       "      <td>18.0</td>\n",
       "      <td>1.0</td>\n",
       "      <td>NaN</td>\n",
       "      <td>NaN</td>\n",
       "      <td>1.339710e+10</td>\n",
       "      <td>NaN</td>\n",
       "      <td>NaN</td>\n",
       "    </tr>\n",
       "    <tr>\n",
       "      <td>Zambia</td>\n",
       "      <td>28.0</td>\n",
       "      <td>0.0</td>\n",
       "      <td>0.0</td>\n",
       "      <td>15066266.0</td>\n",
       "      <td>20.018477</td>\n",
       "      <td>2.106399e+10</td>\n",
       "      <td>1398.089592</td>\n",
       "      <td>17.700001</td>\n",
       "    </tr>\n",
       "    <tr>\n",
       "      <td>Zimbabwe</td>\n",
       "      <td>7.0</td>\n",
       "      <td>0.0</td>\n",
       "      <td>1.0</td>\n",
       "      <td>14229541.0</td>\n",
       "      <td>36.415319</td>\n",
       "      <td>1.661996e+10</td>\n",
       "      <td>1167.989916</td>\n",
       "      <td>19.600000</td>\n",
       "    </tr>\n",
       "  </tbody>\n",
       "</table>\n",
       "<p>176 rows × 8 columns</p>\n",
       "</div>"
      ],
      "text/plain": [
       "                    Confirmed  Recovered  Deaths  Population     Density  \\\n",
       "Country                                                                    \n",
       "Afghanistan             110.0        2.0     4.0  32564342.0   49.927697   \n",
       "Albania                 197.0       31.0    10.0   3029278.0  105.373522   \n",
       "Algeria                 454.0       31.0    29.0  39542166.0   16.602211   \n",
       "Andorra                 308.0        1.0     3.0     85580.0  182.863248   \n",
       "Angola                    5.0        0.0     0.0  19625353.0   15.741841   \n",
       "...                       ...        ...     ...         ...         ...   \n",
       "Venezuela               119.0       39.0     2.0  29275460.0   32.098525   \n",
       "Vietnam                 174.0       21.0     0.0  94348835.0  284.861070   \n",
       "West Bank and Gaza       98.0       18.0     1.0         NaN         NaN   \n",
       "Zambia                   28.0        0.0     0.0  15066266.0   20.018477   \n",
       "Zimbabwe                  7.0        0.0     1.0  14229541.0   36.415319   \n",
       "\n",
       "                             GDP  GDP per capita  Median Age  \n",
       "Country                                                       \n",
       "Afghanistan         1.946902e+10      597.863215   18.600000  \n",
       "Albania             1.186387e+10     3916.400534   38.000000  \n",
       "Algeria             1.590491e+11     4022.265668   29.100000  \n",
       "Andorra             2.858518e+09    33401.702490         NaN  \n",
       "Angola              9.533511e+10     4857.752711   16.799999  \n",
       "...                          ...             ...         ...  \n",
       "Venezuela                    NaN             NaN   29.000000  \n",
       "Vietnam             2.052762e+11     2175.714964   32.599998  \n",
       "West Bank and Gaza  1.339710e+10             NaN         NaN  \n",
       "Zambia              2.106399e+10     1398.089592   17.700001  \n",
       "Zimbabwe            1.661996e+10     1167.989916   19.600000  \n",
       "\n",
       "[176 rows x 8 columns]"
      ]
     },
     "execution_count": 162,
     "metadata": {},
     "output_type": "execute_result"
    }
   ],
   "source": [
    "Collation"
   ]
  },
  {
   "cell_type": "code",
   "execution_count": 163,
   "metadata": {},
   "outputs": [],
   "source": [
    "#dodawanie kolumn z odsetkami chorych, ozdrowiałych i zmarłych względem całej populacji kraju\n",
    "percentageConfirmed = Collation.Confirmed / Collation.Population\n",
    "Collation.insert(1, \"Percentage of confirmed cases in population\", percentageConfirmed, True)\n",
    "\n",
    "percentageDeaths = Collation.Deaths / Collation.Population\n",
    "Collation.insert(4, \"Percentage of deaths in population\", percentageDeaths, True)\n",
    "\n",
    "percentageRecovered = Collation.Recovered / Collation.Population\n",
    "Collation.insert(3, \"Percentage of recoveries in population\", percentageRecovered, True)"
   ]
  },
  {
   "cell_type": "code",
   "execution_count": 164,
   "metadata": {},
   "outputs": [
    {
     "data": {
      "text/html": [
       "<div>\n",
       "<style scoped>\n",
       "    .dataframe tbody tr th:only-of-type {\n",
       "        vertical-align: middle;\n",
       "    }\n",
       "\n",
       "    .dataframe tbody tr th {\n",
       "        vertical-align: top;\n",
       "    }\n",
       "\n",
       "    .dataframe thead th {\n",
       "        text-align: right;\n",
       "    }\n",
       "</style>\n",
       "<table border=\"1\" class=\"dataframe\">\n",
       "  <thead>\n",
       "    <tr style=\"text-align: right;\">\n",
       "      <th></th>\n",
       "      <th>Confirmed</th>\n",
       "      <th>Percentage of confirmed cases in population</th>\n",
       "      <th>Recovered</th>\n",
       "      <th>Percentage of recoveries in population</th>\n",
       "      <th>Deaths</th>\n",
       "      <th>Percentage of deaths in population</th>\n",
       "      <th>Population</th>\n",
       "      <th>Density</th>\n",
       "      <th>GDP</th>\n",
       "      <th>GDP per capita</th>\n",
       "      <th>Median Age</th>\n",
       "    </tr>\n",
       "    <tr>\n",
       "      <th>Country</th>\n",
       "      <th></th>\n",
       "      <th></th>\n",
       "      <th></th>\n",
       "      <th></th>\n",
       "      <th></th>\n",
       "      <th></th>\n",
       "      <th></th>\n",
       "      <th></th>\n",
       "      <th></th>\n",
       "      <th></th>\n",
       "      <th></th>\n",
       "    </tr>\n",
       "  </thead>\n",
       "  <tbody>\n",
       "    <tr>\n",
       "      <td>Afghanistan</td>\n",
       "      <td>110.0</td>\n",
       "      <td>3.377928e-06</td>\n",
       "      <td>2.0</td>\n",
       "      <td>6.141687e-08</td>\n",
       "      <td>4.0</td>\n",
       "      <td>1.228337e-07</td>\n",
       "      <td>32564342.0</td>\n",
       "      <td>49.927697</td>\n",
       "      <td>1.946902e+10</td>\n",
       "      <td>597.863215</td>\n",
       "      <td>18.600000</td>\n",
       "    </tr>\n",
       "    <tr>\n",
       "      <td>Albania</td>\n",
       "      <td>197.0</td>\n",
       "      <td>6.503200e-05</td>\n",
       "      <td>31.0</td>\n",
       "      <td>1.023346e-05</td>\n",
       "      <td>10.0</td>\n",
       "      <td>3.301117e-06</td>\n",
       "      <td>3029278.0</td>\n",
       "      <td>105.373522</td>\n",
       "      <td>1.186387e+10</td>\n",
       "      <td>3916.400534</td>\n",
       "      <td>38.000000</td>\n",
       "    </tr>\n",
       "    <tr>\n",
       "      <td>Algeria</td>\n",
       "      <td>454.0</td>\n",
       "      <td>1.148141e-05</td>\n",
       "      <td>31.0</td>\n",
       "      <td>7.839732e-07</td>\n",
       "      <td>29.0</td>\n",
       "      <td>7.333943e-07</td>\n",
       "      <td>39542166.0</td>\n",
       "      <td>16.602211</td>\n",
       "      <td>1.590491e+11</td>\n",
       "      <td>4022.265668</td>\n",
       "      <td>29.100000</td>\n",
       "    </tr>\n",
       "    <tr>\n",
       "      <td>Andorra</td>\n",
       "      <td>308.0</td>\n",
       "      <td>3.598972e-03</td>\n",
       "      <td>1.0</td>\n",
       "      <td>1.168497e-05</td>\n",
       "      <td>3.0</td>\n",
       "      <td>3.505492e-05</td>\n",
       "      <td>85580.0</td>\n",
       "      <td>182.863248</td>\n",
       "      <td>2.858518e+09</td>\n",
       "      <td>33401.702490</td>\n",
       "      <td>NaN</td>\n",
       "    </tr>\n",
       "    <tr>\n",
       "      <td>Angola</td>\n",
       "      <td>5.0</td>\n",
       "      <td>2.547725e-07</td>\n",
       "      <td>0.0</td>\n",
       "      <td>0.000000e+00</td>\n",
       "      <td>0.0</td>\n",
       "      <td>0.000000e+00</td>\n",
       "      <td>19625353.0</td>\n",
       "      <td>15.741841</td>\n",
       "      <td>9.533511e+10</td>\n",
       "      <td>4857.752711</td>\n",
       "      <td>16.799999</td>\n",
       "    </tr>\n",
       "    <tr>\n",
       "      <td>...</td>\n",
       "      <td>...</td>\n",
       "      <td>...</td>\n",
       "      <td>...</td>\n",
       "      <td>...</td>\n",
       "      <td>...</td>\n",
       "      <td>...</td>\n",
       "      <td>...</td>\n",
       "      <td>...</td>\n",
       "      <td>...</td>\n",
       "      <td>...</td>\n",
       "      <td>...</td>\n",
       "    </tr>\n",
       "    <tr>\n",
       "      <td>Venezuela</td>\n",
       "      <td>119.0</td>\n",
       "      <td>4.064838e-06</td>\n",
       "      <td>39.0</td>\n",
       "      <td>1.332174e-06</td>\n",
       "      <td>2.0</td>\n",
       "      <td>6.831660e-08</td>\n",
       "      <td>29275460.0</td>\n",
       "      <td>32.098525</td>\n",
       "      <td>NaN</td>\n",
       "      <td>NaN</td>\n",
       "      <td>29.000000</td>\n",
       "    </tr>\n",
       "    <tr>\n",
       "      <td>Vietnam</td>\n",
       "      <td>174.0</td>\n",
       "      <td>1.844220e-06</td>\n",
       "      <td>21.0</td>\n",
       "      <td>2.225783e-07</td>\n",
       "      <td>0.0</td>\n",
       "      <td>0.000000e+00</td>\n",
       "      <td>94348835.0</td>\n",
       "      <td>284.861070</td>\n",
       "      <td>2.052762e+11</td>\n",
       "      <td>2175.714964</td>\n",
       "      <td>32.599998</td>\n",
       "    </tr>\n",
       "    <tr>\n",
       "      <td>West Bank and Gaza</td>\n",
       "      <td>98.0</td>\n",
       "      <td>NaN</td>\n",
       "      <td>18.0</td>\n",
       "      <td>NaN</td>\n",
       "      <td>1.0</td>\n",
       "      <td>NaN</td>\n",
       "      <td>NaN</td>\n",
       "      <td>NaN</td>\n",
       "      <td>1.339710e+10</td>\n",
       "      <td>NaN</td>\n",
       "      <td>NaN</td>\n",
       "    </tr>\n",
       "    <tr>\n",
       "      <td>Zambia</td>\n",
       "      <td>28.0</td>\n",
       "      <td>1.858457e-06</td>\n",
       "      <td>0.0</td>\n",
       "      <td>0.000000e+00</td>\n",
       "      <td>0.0</td>\n",
       "      <td>0.000000e+00</td>\n",
       "      <td>15066266.0</td>\n",
       "      <td>20.018477</td>\n",
       "      <td>2.106399e+10</td>\n",
       "      <td>1398.089592</td>\n",
       "      <td>17.700001</td>\n",
       "    </tr>\n",
       "    <tr>\n",
       "      <td>Zimbabwe</td>\n",
       "      <td>7.0</td>\n",
       "      <td>4.919343e-07</td>\n",
       "      <td>0.0</td>\n",
       "      <td>0.000000e+00</td>\n",
       "      <td>1.0</td>\n",
       "      <td>7.027634e-08</td>\n",
       "      <td>14229541.0</td>\n",
       "      <td>36.415319</td>\n",
       "      <td>1.661996e+10</td>\n",
       "      <td>1167.989916</td>\n",
       "      <td>19.600000</td>\n",
       "    </tr>\n",
       "  </tbody>\n",
       "</table>\n",
       "<p>176 rows × 11 columns</p>\n",
       "</div>"
      ],
      "text/plain": [
       "                    Confirmed  Percentage of confirmed cases in population  \\\n",
       "Country                                                                      \n",
       "Afghanistan             110.0                                 3.377928e-06   \n",
       "Albania                 197.0                                 6.503200e-05   \n",
       "Algeria                 454.0                                 1.148141e-05   \n",
       "Andorra                 308.0                                 3.598972e-03   \n",
       "Angola                    5.0                                 2.547725e-07   \n",
       "...                       ...                                          ...   \n",
       "Venezuela               119.0                                 4.064838e-06   \n",
       "Vietnam                 174.0                                 1.844220e-06   \n",
       "West Bank and Gaza       98.0                                          NaN   \n",
       "Zambia                   28.0                                 1.858457e-06   \n",
       "Zimbabwe                  7.0                                 4.919343e-07   \n",
       "\n",
       "                    Recovered  Percentage of recoveries in population  Deaths  \\\n",
       "Country                                                                         \n",
       "Afghanistan               2.0                            6.141687e-08     4.0   \n",
       "Albania                  31.0                            1.023346e-05    10.0   \n",
       "Algeria                  31.0                            7.839732e-07    29.0   \n",
       "Andorra                   1.0                            1.168497e-05     3.0   \n",
       "Angola                    0.0                            0.000000e+00     0.0   \n",
       "...                       ...                                     ...     ...   \n",
       "Venezuela                39.0                            1.332174e-06     2.0   \n",
       "Vietnam                  21.0                            2.225783e-07     0.0   \n",
       "West Bank and Gaza       18.0                                     NaN     1.0   \n",
       "Zambia                    0.0                            0.000000e+00     0.0   \n",
       "Zimbabwe                  0.0                            0.000000e+00     1.0   \n",
       "\n",
       "                    Percentage of deaths in population  Population  \\\n",
       "Country                                                              \n",
       "Afghanistan                               1.228337e-07  32564342.0   \n",
       "Albania                                   3.301117e-06   3029278.0   \n",
       "Algeria                                   7.333943e-07  39542166.0   \n",
       "Andorra                                   3.505492e-05     85580.0   \n",
       "Angola                                    0.000000e+00  19625353.0   \n",
       "...                                                ...         ...   \n",
       "Venezuela                                 6.831660e-08  29275460.0   \n",
       "Vietnam                                   0.000000e+00  94348835.0   \n",
       "West Bank and Gaza                                 NaN         NaN   \n",
       "Zambia                                    0.000000e+00  15066266.0   \n",
       "Zimbabwe                                  7.027634e-08  14229541.0   \n",
       "\n",
       "                       Density           GDP  GDP per capita  Median Age  \n",
       "Country                                                                   \n",
       "Afghanistan          49.927697  1.946902e+10      597.863215   18.600000  \n",
       "Albania             105.373522  1.186387e+10     3916.400534   38.000000  \n",
       "Algeria              16.602211  1.590491e+11     4022.265668   29.100000  \n",
       "Andorra             182.863248  2.858518e+09    33401.702490         NaN  \n",
       "Angola               15.741841  9.533511e+10     4857.752711   16.799999  \n",
       "...                        ...           ...             ...         ...  \n",
       "Venezuela            32.098525           NaN             NaN   29.000000  \n",
       "Vietnam             284.861070  2.052762e+11     2175.714964   32.599998  \n",
       "West Bank and Gaza         NaN  1.339710e+10             NaN         NaN  \n",
       "Zambia               20.018477  2.106399e+10     1398.089592   17.700001  \n",
       "Zimbabwe             36.415319  1.661996e+10     1167.989916   19.600000  \n",
       "\n",
       "[176 rows x 11 columns]"
      ]
     },
     "execution_count": 164,
     "metadata": {},
     "output_type": "execute_result"
    }
   ],
   "source": [
    "Collation"
   ]
  },
  {
   "cell_type": "code",
   "execution_count": 165,
   "metadata": {},
   "outputs": [
    {
     "data": {
      "text/plain": [
       "9.86772028970279e-05"
      ]
     },
     "execution_count": 165,
     "metadata": {},
     "output_type": "execute_result"
    }
   ],
   "source": [
    "#odsetek chorych w całej populacji\n",
    "overallConfirmedPercentage = Collation[\"Confirmed\"].dropna().sum() / Collation[\"Population\"].dropna().sum()\n",
    "overallConfirmedPercentage"
   ]
  },
  {
   "cell_type": "code",
   "execution_count": 166,
   "metadata": {},
   "outputs": [
    {
     "data": {
      "image/png": "[encoded data removed]",
      "text/plain": [
       "<Figure size 432x288 with 1 Axes>"
      ]
     },
     "metadata": {},
     "output_type": "display_data"
    }
   ],
   "source": [
    "labels = 'Ill', 'Healthy'\n",
    "sizes = [Collation[\"Confirmed\"].dropna().sum(), Collation[\"Population\"].dropna().sum() - Collation[\"Confirmed\"].dropna().sum()]\n",
    "colors = ['red', 'green']\n",
    "explode = (0.1, 0)\n",
    "\n",
    "plt.pie(sizes, explode=explode, labels=labels, colors=colors,\n",
    "autopct='%1.1f%%', shadow=True, startangle=140)\n",
    "\n",
    "plt.axis('equal')\n",
    "plt.title(\"Ill and Healthy - proportion\")\n",
    "plt.show()"
   ]
  },
  {
   "cell_type": "code",
   "execution_count": 167,
   "metadata": {},
   "outputs": [
    {
     "data": {
      "text/plain": [
       "0.0002352198441451244"
      ]
     },
     "execution_count": 167,
     "metadata": {},
     "output_type": "execute_result"
    }
   ],
   "source": [
    "#średni odsetek chorych w krajach\n",
    "meanConfirmedCountry = Collation[\"Percentage of confirmed cases in population\"].dropna().mean()\n",
    "meanConfirmedCountry"
   ]
  },
  {
   "cell_type": "code",
   "execution_count": 168,
   "metadata": {},
   "outputs": [
    {
     "data": {
      "text/plain": [
       "4.607687502973426e-06"
      ]
     },
     "execution_count": 168,
     "metadata": {},
     "output_type": "execute_result"
    }
   ],
   "source": [
    "#odsetek zmarłych w całej populacji\n",
    "overallDeathsPercentage = Collation[\"Deaths\"].dropna().sum() / Collation[\"Population\"].dropna().sum()\n",
    "overallDeathsPercentage"
   ]
  },
  {
   "cell_type": "code",
   "execution_count": 169,
   "metadata": {},
   "outputs": [
    {
     "data": {
      "image/png": "[encoded data removed]",
      "text/plain": [
       "<Figure size 432x288 with 1 Axes>"
      ]
     },
     "metadata": {},
     "output_type": "display_data"
    }
   ],
   "source": [
    "labels = 'Dead', 'Alive'\n",
    "sizes = [Collation[\"Deaths\"].dropna().sum(), Collation[\"Population\"].dropna().sum() - Collation[\"Deaths\"].dropna().sum()]\n",
    "colors = ['red', 'green']\n",
    "explode = (0.1, 0)\n",
    "\n",
    "plt.pie(sizes, explode=explode, labels=labels, colors=colors,\n",
    "autopct='%1.1f%%', shadow=True, startangle=140)\n",
    "\n",
    "plt.axis('equal')\n",
    "plt.title(\"Dead and Alive - proportion\")\n",
    "plt.show()"
   ]
  },
  {
   "cell_type": "code",
   "execution_count": 170,
   "metadata": {},
   "outputs": [
    {
     "data": {
      "text/plain": [
       "8.233558892374943e-06"
      ]
     },
     "execution_count": 170,
     "metadata": {},
     "output_type": "execute_result"
    }
   ],
   "source": [
    "#średni odsetek zmarłych w krajach\n",
    "meanDeathsCountry = Collation[\"Percentage of deaths in population\"].dropna().mean()\n",
    "meanDeathsCountry"
   ]
  },
  {
   "cell_type": "code",
   "execution_count": 171,
   "metadata": {},
   "outputs": [
    {
     "data": {
      "text/plain": [
       "2.0928821249735365e-05"
      ]
     },
     "execution_count": 171,
     "metadata": {},
     "output_type": "execute_result"
    }
   ],
   "source": [
    "#odsetek ozdrowiałych w całej populacji\n",
    "overallRecoveriesPercentage = Collation[\"Recovered\"].dropna().sum() / Collation[\"Population\"].dropna().sum()\n",
    "overallRecoveriesPercentage"
   ]
  },
  {
   "cell_type": "code",
   "execution_count": 172,
   "metadata": {},
   "outputs": [
    {
     "data": {
      "image/png": "[encoded data removed]",
      "text/plain": [
       "<Figure size 432x288 with 1 Axes>"
      ]
     },
     "metadata": {},
     "output_type": "display_data"
    }
   ],
   "source": [
    "labels = 'Recovered', 'Never Infected'\n",
    "sizes = [Collation[\"Recovered\"].dropna().sum(), Collation[\"Population\"].dropna().sum() - Collation[\"Deaths\"].dropna().sum() - Collation[\"Recovered\"].dropna().sum()]\n",
    "colors = ['red', 'green']\n",
    "explode = (0.1, 0)\n",
    "\n",
    "plt.pie(sizes, explode=explode, labels=labels, colors=colors,\n",
    "autopct='%1.1f%%', shadow=True, startangle=140)\n",
    "\n",
    "plt.axis('equal')\n",
    "plt.title(\"Recovered and Never Infected - proportion\")\n",
    "plt.show()"
   ]
  },
  {
   "cell_type": "code",
   "execution_count": 173,
   "metadata": {},
   "outputs": [
    {
     "data": {
      "text/plain": [
       "1.5218419765693888e-05"
      ]
     },
     "execution_count": 173,
     "metadata": {},
     "output_type": "execute_result"
    }
   ],
   "source": [
    "#średni odsetek ozdrowiałych w krajach\n",
    "meanRecoveriesCountry = Collation[\"Percentage of recoveries in population\"].dropna().mean()\n",
    "meanRecoveriesCountry"
   ]
  },
  {
   "cell_type": "code",
   "execution_count": 174,
   "metadata": {},
   "outputs": [],
   "source": [
    "#dodawanie kolumn z odsetkami ozdrowiałych i zmarłych względem całej populacji kraju\n",
    "recoveryRateByCountry = Collation.Recovered / Collation.Confirmed\n",
    "Collation.insert(4, \"Recovery rate\", recoveryRateByCountry, True)\n",
    "\n",
    "deathRateByCountry = Collation.Deaths / Collation.Confirmed\n",
    "Collation.insert(7, \"Death rate\", deathRateByCountry, True)\n"
   ]
  },
  {
   "cell_type": "code",
   "execution_count": 175,
   "metadata": {},
   "outputs": [
    {
     "data": {
      "text/html": [
       "<div>\n",
       "<style scoped>\n",
       "    .dataframe tbody tr th:only-of-type {\n",
       "        vertical-align: middle;\n",
       "    }\n",
       "\n",
       "    .dataframe tbody tr th {\n",
       "        vertical-align: top;\n",
       "    }\n",
       "\n",
       "    .dataframe thead th {\n",
       "        text-align: right;\n",
       "    }\n",
       "</style>\n",
       "<table border=\"1\" class=\"dataframe\">\n",
       "  <thead>\n",
       "    <tr style=\"text-align: right;\">\n",
       "      <th></th>\n",
       "      <th>Confirmed</th>\n",
       "      <th>Percentage of confirmed cases in population</th>\n",
       "      <th>Recovered</th>\n",
       "      <th>Percentage of recoveries in population</th>\n",
       "      <th>Recovery rate</th>\n",
       "      <th>Deaths</th>\n",
       "      <th>Percentage of deaths in population</th>\n",
       "      <th>Death rate</th>\n",
       "      <th>Population</th>\n",
       "      <th>Density</th>\n",
       "      <th>GDP</th>\n",
       "      <th>GDP per capita</th>\n",
       "      <th>Median Age</th>\n",
       "    </tr>\n",
       "    <tr>\n",
       "      <th>Country</th>\n",
       "      <th></th>\n",
       "      <th></th>\n",
       "      <th></th>\n",
       "      <th></th>\n",
       "      <th></th>\n",
       "      <th></th>\n",
       "      <th></th>\n",
       "      <th></th>\n",
       "      <th></th>\n",
       "      <th></th>\n",
       "      <th></th>\n",
       "      <th></th>\n",
       "      <th></th>\n",
       "    </tr>\n",
       "  </thead>\n",
       "  <tbody>\n",
       "    <tr>\n",
       "      <td>Afghanistan</td>\n",
       "      <td>110.0</td>\n",
       "      <td>3.377928e-06</td>\n",
       "      <td>2.0</td>\n",
       "      <td>6.141687e-08</td>\n",
       "      <td>0.018182</td>\n",
       "      <td>4.0</td>\n",
       "      <td>1.228337e-07</td>\n",
       "      <td>0.036364</td>\n",
       "      <td>32564342.0</td>\n",
       "      <td>49.927697</td>\n",
       "      <td>1.946902e+10</td>\n",
       "      <td>597.863215</td>\n",
       "      <td>18.600000</td>\n",
       "    </tr>\n",
       "    <tr>\n",
       "      <td>Albania</td>\n",
       "      <td>197.0</td>\n",
       "      <td>6.503200e-05</td>\n",
       "      <td>31.0</td>\n",
       "      <td>1.023346e-05</td>\n",
       "      <td>0.157360</td>\n",
       "      <td>10.0</td>\n",
       "      <td>3.301117e-06</td>\n",
       "      <td>0.050761</td>\n",
       "      <td>3029278.0</td>\n",
       "      <td>105.373522</td>\n",
       "      <td>1.186387e+10</td>\n",
       "      <td>3916.400534</td>\n",
       "      <td>38.000000</td>\n",
       "    </tr>\n",
       "    <tr>\n",
       "      <td>Algeria</td>\n",
       "      <td>454.0</td>\n",
       "      <td>1.148141e-05</td>\n",
       "      <td>31.0</td>\n",
       "      <td>7.839732e-07</td>\n",
       "      <td>0.068282</td>\n",
       "      <td>29.0</td>\n",
       "      <td>7.333943e-07</td>\n",
       "      <td>0.063877</td>\n",
       "      <td>39542166.0</td>\n",
       "      <td>16.602211</td>\n",
       "      <td>1.590491e+11</td>\n",
       "      <td>4022.265668</td>\n",
       "      <td>29.100000</td>\n",
       "    </tr>\n",
       "    <tr>\n",
       "      <td>Andorra</td>\n",
       "      <td>308.0</td>\n",
       "      <td>3.598972e-03</td>\n",
       "      <td>1.0</td>\n",
       "      <td>1.168497e-05</td>\n",
       "      <td>0.003247</td>\n",
       "      <td>3.0</td>\n",
       "      <td>3.505492e-05</td>\n",
       "      <td>0.009740</td>\n",
       "      <td>85580.0</td>\n",
       "      <td>182.863248</td>\n",
       "      <td>2.858518e+09</td>\n",
       "      <td>33401.702490</td>\n",
       "      <td>NaN</td>\n",
       "    </tr>\n",
       "    <tr>\n",
       "      <td>Angola</td>\n",
       "      <td>5.0</td>\n",
       "      <td>2.547725e-07</td>\n",
       "      <td>0.0</td>\n",
       "      <td>0.000000e+00</td>\n",
       "      <td>0.000000</td>\n",
       "      <td>0.0</td>\n",
       "      <td>0.000000e+00</td>\n",
       "      <td>0.000000</td>\n",
       "      <td>19625353.0</td>\n",
       "      <td>15.741841</td>\n",
       "      <td>9.533511e+10</td>\n",
       "      <td>4857.752711</td>\n",
       "      <td>16.799999</td>\n",
       "    </tr>\n",
       "    <tr>\n",
       "      <td>...</td>\n",
       "      <td>...</td>\n",
       "      <td>...</td>\n",
       "      <td>...</td>\n",
       "      <td>...</td>\n",
       "      <td>...</td>\n",
       "      <td>...</td>\n",
       "      <td>...</td>\n",
       "      <td>...</td>\n",
       "      <td>...</td>\n",
       "      <td>...</td>\n",
       "      <td>...</td>\n",
       "      <td>...</td>\n",
       "      <td>...</td>\n",
       "    </tr>\n",
       "    <tr>\n",
       "      <td>Venezuela</td>\n",
       "      <td>119.0</td>\n",
       "      <td>4.064838e-06</td>\n",
       "      <td>39.0</td>\n",
       "      <td>1.332174e-06</td>\n",
       "      <td>0.327731</td>\n",
       "      <td>2.0</td>\n",
       "      <td>6.831660e-08</td>\n",
       "      <td>0.016807</td>\n",
       "      <td>29275460.0</td>\n",
       "      <td>32.098525</td>\n",
       "      <td>NaN</td>\n",
       "      <td>NaN</td>\n",
       "      <td>29.000000</td>\n",
       "    </tr>\n",
       "    <tr>\n",
       "      <td>Vietnam</td>\n",
       "      <td>174.0</td>\n",
       "      <td>1.844220e-06</td>\n",
       "      <td>21.0</td>\n",
       "      <td>2.225783e-07</td>\n",
       "      <td>0.120690</td>\n",
       "      <td>0.0</td>\n",
       "      <td>0.000000e+00</td>\n",
       "      <td>0.000000</td>\n",
       "      <td>94348835.0</td>\n",
       "      <td>284.861070</td>\n",
       "      <td>2.052762e+11</td>\n",
       "      <td>2175.714964</td>\n",
       "      <td>32.599998</td>\n",
       "    </tr>\n",
       "    <tr>\n",
       "      <td>West Bank and Gaza</td>\n",
       "      <td>98.0</td>\n",
       "      <td>NaN</td>\n",
       "      <td>18.0</td>\n",
       "      <td>NaN</td>\n",
       "      <td>0.183673</td>\n",
       "      <td>1.0</td>\n",
       "      <td>NaN</td>\n",
       "      <td>0.010204</td>\n",
       "      <td>NaN</td>\n",
       "      <td>NaN</td>\n",
       "      <td>1.339710e+10</td>\n",
       "      <td>NaN</td>\n",
       "      <td>NaN</td>\n",
       "    </tr>\n",
       "    <tr>\n",
       "      <td>Zambia</td>\n",
       "      <td>28.0</td>\n",
       "      <td>1.858457e-06</td>\n",
       "      <td>0.0</td>\n",
       "      <td>0.000000e+00</td>\n",
       "      <td>0.000000</td>\n",
       "      <td>0.0</td>\n",
       "      <td>0.000000e+00</td>\n",
       "      <td>0.000000</td>\n",
       "      <td>15066266.0</td>\n",
       "      <td>20.018477</td>\n",
       "      <td>2.106399e+10</td>\n",
       "      <td>1398.089592</td>\n",
       "      <td>17.700001</td>\n",
       "    </tr>\n",
       "    <tr>\n",
       "      <td>Zimbabwe</td>\n",
       "      <td>7.0</td>\n",
       "      <td>4.919343e-07</td>\n",
       "      <td>0.0</td>\n",
       "      <td>0.000000e+00</td>\n",
       "      <td>0.000000</td>\n",
       "      <td>1.0</td>\n",
       "      <td>7.027634e-08</td>\n",
       "      <td>0.142857</td>\n",
       "      <td>14229541.0</td>\n",
       "      <td>36.415319</td>\n",
       "      <td>1.661996e+10</td>\n",
       "      <td>1167.989916</td>\n",
       "      <td>19.600000</td>\n",
       "    </tr>\n",
       "  </tbody>\n",
       "</table>\n",
       "<p>176 rows × 13 columns</p>\n",
       "</div>"
      ],
      "text/plain": [
       "                    Confirmed  Percentage of confirmed cases in population  \\\n",
       "Country                                                                      \n",
       "Afghanistan             110.0                                 3.377928e-06   \n",
       "Albania                 197.0                                 6.503200e-05   \n",
       "Algeria                 454.0                                 1.148141e-05   \n",
       "Andorra                 308.0                                 3.598972e-03   \n",
       "Angola                    5.0                                 2.547725e-07   \n",
       "...                       ...                                          ...   \n",
       "Venezuela               119.0                                 4.064838e-06   \n",
       "Vietnam                 174.0                                 1.844220e-06   \n",
       "West Bank and Gaza       98.0                                          NaN   \n",
       "Zambia                   28.0                                 1.858457e-06   \n",
       "Zimbabwe                  7.0                                 4.919343e-07   \n",
       "\n",
       "                    Recovered  Percentage of recoveries in population  \\\n",
       "Country                                                                 \n",
       "Afghanistan               2.0                            6.141687e-08   \n",
       "Albania                  31.0                            1.023346e-05   \n",
       "Algeria                  31.0                            7.839732e-07   \n",
       "Andorra                   1.0                            1.168497e-05   \n",
       "Angola                    0.0                            0.000000e+00   \n",
       "...                       ...                                     ...   \n",
       "Venezuela                39.0                            1.332174e-06   \n",
       "Vietnam                  21.0                            2.225783e-07   \n",
       "West Bank and Gaza       18.0                                     NaN   \n",
       "Zambia                    0.0                            0.000000e+00   \n",
       "Zimbabwe                  0.0                            0.000000e+00   \n",
       "\n",
       "                    Recovery rate  Deaths  Percentage of deaths in population  \\\n",
       "Country                                                                         \n",
       "Afghanistan              0.018182     4.0                        1.228337e-07   \n",
       "Albania                  0.157360    10.0                        3.301117e-06   \n",
       "Algeria                  0.068282    29.0                        7.333943e-07   \n",
       "Andorra                  0.003247     3.0                        3.505492e-05   \n",
       "Angola                   0.000000     0.0                        0.000000e+00   \n",
       "...                           ...     ...                                 ...   \n",
       "Venezuela                0.327731     2.0                        6.831660e-08   \n",
       "Vietnam                  0.120690     0.0                        0.000000e+00   \n",
       "West Bank and Gaza       0.183673     1.0                                 NaN   \n",
       "Zambia                   0.000000     0.0                        0.000000e+00   \n",
       "Zimbabwe                 0.000000     1.0                        7.027634e-08   \n",
       "\n",
       "                    Death rate  Population     Density           GDP  \\\n",
       "Country                                                                \n",
       "Afghanistan           0.036364  32564342.0   49.927697  1.946902e+10   \n",
       "Albania               0.050761   3029278.0  105.373522  1.186387e+10   \n",
       "Algeria               0.063877  39542166.0   16.602211  1.590491e+11   \n",
       "Andorra               0.009740     85580.0  182.863248  2.858518e+09   \n",
       "Angola                0.000000  19625353.0   15.741841  9.533511e+10   \n",
       "...                        ...         ...         ...           ...   \n",
       "Venezuela             0.016807  29275460.0   32.098525           NaN   \n",
       "Vietnam               0.000000  94348835.0  284.861070  2.052762e+11   \n",
       "West Bank and Gaza    0.010204         NaN         NaN  1.339710e+10   \n",
       "Zambia                0.000000  15066266.0   20.018477  2.106399e+10   \n",
       "Zimbabwe              0.142857  14229541.0   36.415319  1.661996e+10   \n",
       "\n",
       "                    GDP per capita  Median Age  \n",
       "Country                                         \n",
       "Afghanistan             597.863215   18.600000  \n",
       "Albania                3916.400534   38.000000  \n",
       "Algeria                4022.265668   29.100000  \n",
       "Andorra               33401.702490         NaN  \n",
       "Angola                 4857.752711   16.799999  \n",
       "...                            ...         ...  \n",
       "Venezuela                      NaN   29.000000  \n",
       "Vietnam                2175.714964   32.599998  \n",
       "West Bank and Gaza             NaN         NaN  \n",
       "Zambia                 1398.089592   17.700001  \n",
       "Zimbabwe               1167.989916   19.600000  \n",
       "\n",
       "[176 rows x 13 columns]"
      ]
     },
     "execution_count": 175,
     "metadata": {},
     "output_type": "execute_result"
    }
   ],
   "source": [
    "Collation"
   ]
  },
  {
   "cell_type": "code",
   "execution_count": 176,
   "metadata": {},
   "outputs": [
    {
     "data": {
      "text/plain": [
       "0.04669454917344649"
      ]
     },
     "execution_count": 176,
     "metadata": {},
     "output_type": "execute_result"
    }
   ],
   "source": [
    "#śmiertelność wirusa w całej populcji\n",
    "deathRate = Collation[\"Deaths\"].dropna().sum() / Collation[\"Confirmed\"].dropna().sum()\n",
    "deathRate"
   ]
  },
  {
   "cell_type": "code",
   "execution_count": 177,
   "metadata": {},
   "outputs": [
    {
     "data": {
      "text/plain": [
       "0.2120937829133149"
      ]
     },
     "execution_count": 177,
     "metadata": {},
     "output_type": "execute_result"
    }
   ],
   "source": [
    "#odsetek ozdrowień w całej populacji\n",
    "recoveryRate = Collation[\"Recovered\"].dropna().sum() / Collation[\"Confirmed\"].dropna().sum()\n",
    "recoveryRate"
   ]
  },
  {
   "cell_type": "code",
   "execution_count": 251,
   "metadata": {},
   "outputs": [
    {
     "data": {
      "image/png": "[encoded data removed]",
      "text/plain": [
       "<Figure size 432x288 with 1 Axes>"
      ]
     },
     "metadata": {},
     "output_type": "display_data"
    }
   ],
   "source": [
    "labels = 'Dead', 'Treated', 'Recovered'\n",
    "sizes = [Collation[\"Deaths\"].dropna().sum(), Collation[\"Confirmed\"].dropna().sum() - Collation[\"Deaths\"].dropna().sum() - Collation[\"Recovered\"].dropna().sum() , Collation[\"Recovered\"].dropna().sum()]\n",
    "colors = ['red', 'yellow', 'green']\n",
    "explode = (0, 0.1, 0.2)\n",
    "\n",
    "plt.pie(sizes, explode=explode, labels=labels, colors=colors,\n",
    "autopct='%1.1f%%', shadow=True, startangle=140)\n",
    "\n",
    "plt.axis('equal')\n",
    "plt.title(\"Dead, Recovered and Treated - proportion\")\n",
    "plt.show()"
   ]
  },
  {
   "cell_type": "code",
   "execution_count": 252,
   "metadata": {},
   "outputs": [
    {
     "data": {
      "image/png": "[encoded data removed]",
      "text/plain": [
       "<Figure size 432x288 with 1 Axes>"
      ]
     },
     "metadata": {},
     "output_type": "display_data"
    }
   ],
   "source": [
    "labels = 'Dead', 'Recovered'\n",
    "sizes = [Collation[\"Deaths\"].dropna().sum(), Collation[\"Recovered\"].dropna().sum()]\n",
    "colors = ['red', 'green']\n",
    "explode = (0,0.2)\n",
    "\n",
    "plt.pie(sizes, explode=explode, labels=labels, colors=colors,\n",
    "autopct='%1.1f%%', shadow=True, startangle=140)\n",
    "\n",
    "plt.axis('equal')\n",
    "plt.title(\"Dead and Recovered - proportion\")\n",
    "plt.show()"
   ]
  },
  {
   "cell_type": "code",
   "execution_count": 179,
   "metadata": {},
   "outputs": [
    {
     "name": "stdout",
     "output_type": "stream",
     "text": [
      "US: 121478.0\n"
     ]
    }
   ],
   "source": [
    "#kraj z największą ilością zachorowań i wartość\n",
    "c = str(Collation.Confirmed.idxmax())\n",
    "n = str(Collation.Confirmed[c])\n",
    "print(c + \": \" + n)"
   ]
  },
  {
   "cell_type": "code",
   "execution_count": 180,
   "metadata": {
    "scrolled": true
   },
   "outputs": [
    {
     "data": {
      "image/png": "[encoded data removed]",
      "text/plain": [
       "<Figure size 1440x360 with 1 Axes>"
      ]
     },
     "metadata": {
      "needs_background": "light"
     },
     "output_type": "display_data"
    }
   ],
   "source": [
    "top10Confirmed = Collation[\"Confirmed\"].sort_values(ascending = False).head(10)\n",
    "\n",
    "objects = top10Confirmed.sort_values().index\n",
    "y_pos = np.arange(len(objects))\n",
    "performance = top10Confirmed.sort_values().values\n",
    "\n",
    "plt.figure(figsize=(20,5))\n",
    "plt.bar(y_pos, performance, align='center', alpha=0.5, color = \"red\")\n",
    "plt.xticks(y_pos, objects)\n",
    "plt.ylabel('Number of cases')\n",
    "plt.title('Top 10 countries by number of confirmed cases')\n",
    "\n",
    "plt.show()"
   ]
  },
  {
   "cell_type": "code",
   "execution_count": 181,
   "metadata": {},
   "outputs": [
    {
     "name": "stdout",
     "output_type": "stream",
     "text": [
      "San Marino: 0.006783767413688673\n"
     ]
    }
   ],
   "source": [
    "#kraj z największym odsetkiem zachorowań względem całej populacji i wartość\n",
    "c = str(Collation[\"Percentage of confirmed cases in population\"].idxmax())\n",
    "n = str(Collation[\"Percentage of confirmed cases in population\"][c])\n",
    "print(c + \": \" + n)"
   ]
  },
  {
   "cell_type": "code",
   "execution_count": 182,
   "metadata": {},
   "outputs": [
    {
     "data": {
      "image/png": "[encoded data removed]",
      "text/plain": [
       "<Figure size 1440x360 with 1 Axes>"
      ]
     },
     "metadata": {
      "needs_background": "light"
     },
     "output_type": "display_data"
    }
   ],
   "source": [
    "top10ConfirmedPercentage = Collation[\"Percentage of confirmed cases in population\"].sort_values(ascending = False).head(10)\n",
    "\n",
    "objects = top10ConfirmedPercentage.sort_values().index\n",
    "y_pos = np.arange(len(objects))\n",
    "performance = top10ConfirmedPercentage.sort_values().values*100\n",
    "\n",
    "plt.figure(figsize=(20,5))\n",
    "plt.bar(y_pos, performance, align='center', alpha=0.5, color = \"darkred\")\n",
    "plt.xticks(y_pos, objects)\n",
    "plt.ylabel('Percents')\n",
    "plt.title('Top 10 countries by percentage of confirmed cases in population')\n",
    "\n",
    "plt.show()"
   ]
  },
  {
   "cell_type": "code",
   "execution_count": 183,
   "metadata": {},
   "outputs": [
    {
     "name": "stdout",
     "output_type": "stream",
     "text": [
      "Italy: 92472.0\n"
     ]
    }
   ],
   "source": [
    "#kraj z największą ilością śmierci i wartość\n",
    "c = str(Collation.Deaths.idxmax())\n",
    "n = str(Collation.Confirmed[c])\n",
    "print(c + \": \" + n)"
   ]
  },
  {
   "cell_type": "code",
   "execution_count": 253,
   "metadata": {},
   "outputs": [
    {
     "data": {
      "image/png": "[encoded data removed]",
      "text/plain": [
       "<Figure size 1440x360 with 1 Axes>"
      ]
     },
     "metadata": {
      "needs_background": "light"
     },
     "output_type": "display_data"
    }
   ],
   "source": [
    "top10Deaths = Collation[\"Deaths\"].sort_values(ascending = False).head(10)\n",
    "\n",
    "objects = top10Deaths.sort_values().index\n",
    "y_pos = np.arange(len(objects))\n",
    "performance = top10Deaths.sort_values().values\n",
    "\n",
    "plt.figure(figsize=(20,5))\n",
    "plt.bar(y_pos, performance, align='center', alpha=0.5, color = \"gray\")\n",
    "plt.xticks(y_pos, objects)\n",
    "plt.ylabel('Number of cases')\n",
    "plt.title(\"Top 10 countries by number of deaths\")\n",
    "\n",
    "plt.show()"
   ]
  },
  {
   "cell_type": "code",
   "execution_count": 255,
   "metadata": {},
   "outputs": [
    {
     "data": {
      "image/png": "[encoded data removed]",
      "text/plain": [
       "<Figure size 1440x360 with 1 Axes>"
      ]
     },
     "metadata": {
      "needs_background": "light"
     },
     "output_type": "display_data"
    }
   ],
   "source": [
    "top10Age = Collation[\"Median Age\"].sort_values(ascending = False).head(10)\n",
    "\n",
    "objects = top10Age.sort_values().index\n",
    "y_pos = np.arange(len(objects))\n",
    "performance = top10Age.sort_values().values\n",
    "\n",
    "plt.figure(figsize=(20,5))\n",
    "plt.bar(y_pos, performance, align='center', alpha=0.5, color = \"blue\")\n",
    "plt.xticks(y_pos, objects)\n",
    "plt.ylabel('Median age in years')\n",
    "plt.title(\"Top 10 countries by median age\")\n",
    "\n",
    "plt.show()"
   ]
  },
  {
   "cell_type": "code",
   "execution_count": 185,
   "metadata": {},
   "outputs": [
    {
     "name": "stdout",
     "output_type": "stream",
     "text": [
      "San Marino: 0.0006662628709872804\n"
     ]
    }
   ],
   "source": [
    "#kraj z największym odsetkiem zmarłych względem całej populacji i wartość\n",
    "c = str(Collation[\"Percentage of deaths in population\"].idxmax())\n",
    "n = str(Collation[\"Percentage of deaths in population\"][c])\n",
    "print(c + \": \" + n)"
   ]
  },
  {
   "cell_type": "code",
   "execution_count": 256,
   "metadata": {},
   "outputs": [
    {
     "data": {
      "image/png": "[encoded data removed]",
      "text/plain": [
       "<Figure size 1440x360 with 1 Axes>"
      ]
     },
     "metadata": {
      "needs_background": "light"
     },
     "output_type": "display_data"
    }
   ],
   "source": [
    "top10DeathsPercentage = Collation[\"Percentage of deaths in population\"].sort_values(ascending = False).head(10)\n",
    "\n",
    "objects = top10DeathsPercentage.sort_values().index\n",
    "y_pos = np.arange(len(objects))\n",
    "performance = top10DeathsPercentage.sort_values().values*100\n",
    "\n",
    "plt.figure(figsize=(20,5))\n",
    "plt.bar(y_pos, performance, align='center', alpha=0.5, color = \"black\")\n",
    "plt.xticks(y_pos, objects)\n",
    "plt.ylabel('Percents')\n",
    "plt.title(\"Top 10 countries by percentage of deaths in population\")\n",
    "\n",
    "plt.show()"
   ]
  },
  {
   "cell_type": "code",
   "execution_count": 257,
   "metadata": {},
   "outputs": [
    {
     "data": {
      "text/plain": [
       "0.0001620399410752093"
      ]
     },
     "execution_count": 257,
     "metadata": {},
     "output_type": "execute_result"
    }
   ],
   "source": [
    "Collation[\"Percentage of deaths in population\"][\"Italy\"]"
   ]
  },
  {
   "cell_type": "code",
   "execution_count": 187,
   "metadata": {},
   "outputs": [
    {
     "name": "stdout",
     "output_type": "stream",
     "text": [
      "Gambia: 0.3333333333333333\n"
     ]
    }
   ],
   "source": [
    "#kraj z największym współczynnikiem śmiertelności i wartość\n",
    "c = str(Collation[\"Death rate\"].idxmax())\n",
    "n = str(Collation[\"Death rate\"][c])\n",
    "print(c + \": \" + n)"
   ]
  },
  {
   "cell_type": "code",
   "execution_count": 258,
   "metadata": {},
   "outputs": [
    {
     "data": {
      "image/png": "[encoded data removed]",
      "text/plain": [
       "<Figure size 1440x360 with 1 Axes>"
      ]
     },
     "metadata": {
      "needs_background": "light"
     },
     "output_type": "display_data"
    }
   ],
   "source": [
    "top10DeathRate = Collation[\"Death rate\"].sort_values(ascending = False).head(10)\n",
    "\n",
    "objects = top10DeathRate.sort_values().index\n",
    "y_pos = np.arange(len(objects))\n",
    "performance = top10DeathRate.sort_values().values*100\n",
    "\n",
    "plt.figure(figsize=(20,5))\n",
    "plt.bar(y_pos, performance, align='center', alpha=0.5, color = \"darkviolet\")\n",
    "plt.xticks(y_pos, objects)\n",
    "plt.ylabel('Percents')\n",
    "plt.title(\"Top 10 countries by death rate\")\n",
    "\n",
    "plt.show()"
   ]
  },
  {
   "cell_type": "code",
   "execution_count": 268,
   "metadata": {},
   "outputs": [
    {
     "data": {
      "image/png": "[encoded data removed]",
      "text/plain": [
       "<Figure size 1440x360 with 1 Axes>"
      ]
     },
     "metadata": {
      "needs_background": "light"
     },
     "output_type": "display_data"
    }
   ],
   "source": [
    "GDPTop10DeathRate = Collation[\"GDP per capita\"][top10DeathRate.sort_values().index]\n",
    "\n",
    "objects = GDPTop10DeathRate.dropna().sort_values().index\n",
    "y_pos = np.arange(len(objects))\n",
    "performance = GDPTop10DeathRate.dropna().sort_values().values*100\n",
    "\n",
    "plt.figure(figsize=(20,5))\n",
    "plt.bar(y_pos, performance, align='center', alpha=0.8, color = \"darkblue\")\n",
    "plt.xticks(y_pos, objects)\n",
    "plt.ylabel('Percents')\n",
    "plt.title(\"Top 10 countries with the highest death rate by their GDP per capita\")\n",
    "\n",
    "plt.show()"
   ]
  },
  {
   "cell_type": "code",
   "execution_count": 189,
   "metadata": {},
   "outputs": [
    {
     "name": "stdout",
     "output_type": "stream",
     "text": [
      "China: 75100.0\n"
     ]
    }
   ],
   "source": [
    "#kraj z największą ilością ozdrowiałych i wartość\n",
    "c = str(Collation.Recovered.idxmax())\n",
    "n = str(Collation.Recovered[c])\n",
    "print(c + \": \" + n)"
   ]
  },
  {
   "cell_type": "code",
   "execution_count": 190,
   "metadata": {},
   "outputs": [
    {
     "data": {
      "image/png": "[encoded data removed]",
      "text/plain": [
       "<Figure size 1440x360 with 1 Axes>"
      ]
     },
     "metadata": {
      "needs_background": "light"
     },
     "output_type": "display_data"
    }
   ],
   "source": [
    "top10Recovered = Collation[\"Recovered\"].sort_values(ascending = False).head(10)\n",
    "\n",
    "objects = top10Recovered.sort_values().index\n",
    "y_pos = np.arange(len(objects))\n",
    "performance = top10Recovered.sort_values().values\n",
    "\n",
    "plt.figure(figsize=(20,5))\n",
    "plt.bar(y_pos, performance, align='center', alpha=0.5, color = \"green\")\n",
    "plt.xticks(y_pos, objects)\n",
    "plt.ylabel('Number of cases')\n",
    "plt.title(\"Top 10 countries by number of recoveries\")\n",
    "\n",
    "plt.show()"
   ]
  },
  {
   "cell_type": "code",
   "execution_count": 191,
   "metadata": {},
   "outputs": [
    {
     "name": "stdout",
     "output_type": "stream",
     "text": [
      "Iceland: 0.00034345832404389034\n"
     ]
    }
   ],
   "source": [
    "#kraj z największym odsetkiem ozdrowiałych względem całej populacji i wartość\n",
    "c = str(Collation[\"Percentage of recoveries in population\"].idxmax())\n",
    "n = str(Collation[\"Percentage of recoveries in population\"][c])\n",
    "print(c + \": \" + n)"
   ]
  },
  {
   "cell_type": "code",
   "execution_count": 192,
   "metadata": {},
   "outputs": [
    {
     "data": {
      "image/png": "[encoded data removed]",
      "text/plain": [
       "<Figure size 1440x360 with 1 Axes>"
      ]
     },
     "metadata": {
      "needs_background": "light"
     },
     "output_type": "display_data"
    }
   ],
   "source": [
    "top10RecoveriesPercentage = Collation[\"Percentage of recoveries in population\"].sort_values(ascending = False).head(10)\n",
    "\n",
    "objects = top10RecoveriesPercentage.sort_values().index\n",
    "y_pos = np.arange(len(objects))\n",
    "performance = top10RecoveriesPercentage.sort_values().values*100\n",
    "\n",
    "plt.figure(figsize=(20,5))\n",
    "plt.bar(y_pos, performance, align='center', alpha=0.5, color = \"darkgreen\")\n",
    "plt.xticks(y_pos, objects)\n",
    "plt.ylabel('Percents')\n",
    "plt.title('Top 10 countries by percentage of recoveries in population')\n",
    "\n",
    "plt.show()"
   ]
  },
  {
   "cell_type": "code",
   "execution_count": 193,
   "metadata": {},
   "outputs": [
    {
     "name": "stdout",
     "output_type": "stream",
     "text": [
      "Saint Vincent and the Grenadines: 1.0\n"
     ]
    }
   ],
   "source": [
    "#kraj z największym współczynnikiem wyzdrowień i wartość\n",
    "c = str(Collation[\"Recovery rate\"].idxmax())\n",
    "n = str(Collation[\"Recovery rate\"][c])\n",
    "print(c + \": \" + n)"
   ]
  },
  {
   "cell_type": "code",
   "execution_count": 269,
   "metadata": {},
   "outputs": [
    {
     "data": {
      "image/png": "[encoded data removed]",
      "text/plain": [
       "<Figure size 1440x360 with 1 Axes>"
      ]
     },
     "metadata": {
      "needs_background": "light"
     },
     "output_type": "display_data"
    }
   ],
   "source": [
    "top10RecoveryRate = Collation[\"Recovery rate\"].sort_values(ascending = False).head(10)\n",
    "\n",
    "objects = top10RecoveryRate.sort_values().index\n",
    "y_pos = np.arange(len(objects))\n",
    "performance = top10RecoveryRate.sort_values().values*100\n",
    "\n",
    "plt.figure(figsize=(20,5))\n",
    "plt.bar(y_pos, performance, align='center', alpha=0.5, color = \"lightgreen\")\n",
    "plt.xticks(y_pos, objects)\n",
    "plt.ylabel('Percents')\n",
    "plt.title('Top 10 countries by recovery rate')\n",
    "\n",
    "plt.show()"
   ]
  },
  {
   "cell_type": "code",
   "execution_count": 273,
   "metadata": {},
   "outputs": [
    {
     "data": {
      "image/png": "[encoded data removed]",
      "text/plain": [
       "<Figure size 1440x360 with 1 Axes>"
      ]
     },
     "metadata": {
      "needs_background": "light"
     },
     "output_type": "display_data"
    }
   ],
   "source": [
    "NumConfirmedTop10RecoveryRate = Collation[\"Confirmed\"][top10RecoveryRate.sort_values().index]\n",
    "\n",
    "objects = NumConfirmedTop10RecoveryRate.sort_values().index\n",
    "y_pos = np.arange(len(objects))\n",
    "performance = NumConfirmedTop10RecoveryRate.sort_values().values*100\n",
    "\n",
    "plt.figure(figsize=(20,5))\n",
    "plt.bar(y_pos, performance, align='center', alpha=0.5, color = \"black\")\n",
    "plt.xticks(y_pos, objects)\n",
    "plt.ylabel('Number of cases')\n",
    "plt.title(\"Top 10 countries with the highest recovery rate by their number of confirmed cases\")\n",
    "\n",
    "plt.show()"
   ]
  },
  {
   "cell_type": "code",
   "execution_count": 195,
   "metadata": {},
   "outputs": [
    {
     "data": {
      "text/html": [
       "<div>\n",
       "<style scoped>\n",
       "    .dataframe tbody tr th:only-of-type {\n",
       "        vertical-align: middle;\n",
       "    }\n",
       "\n",
       "    .dataframe tbody tr th {\n",
       "        vertical-align: top;\n",
       "    }\n",
       "\n",
       "    .dataframe thead th {\n",
       "        text-align: right;\n",
       "    }\n",
       "</style>\n",
       "<table border=\"1\" class=\"dataframe\">\n",
       "  <thead>\n",
       "    <tr style=\"text-align: right;\">\n",
       "      <th></th>\n",
       "      <th>Confirmed</th>\n",
       "      <th>Percentage of confirmed cases in population</th>\n",
       "      <th>Recovered</th>\n",
       "      <th>Percentage of recoveries in population</th>\n",
       "      <th>Recovery rate</th>\n",
       "      <th>Deaths</th>\n",
       "      <th>Percentage of deaths in population</th>\n",
       "      <th>Death rate</th>\n",
       "      <th>Population</th>\n",
       "      <th>Density</th>\n",
       "      <th>GDP</th>\n",
       "      <th>GDP per capita</th>\n",
       "      <th>Median Age</th>\n",
       "    </tr>\n",
       "    <tr>\n",
       "      <th>Country</th>\n",
       "      <th></th>\n",
       "      <th></th>\n",
       "      <th></th>\n",
       "      <th></th>\n",
       "      <th></th>\n",
       "      <th></th>\n",
       "      <th></th>\n",
       "      <th></th>\n",
       "      <th></th>\n",
       "      <th></th>\n",
       "      <th></th>\n",
       "      <th></th>\n",
       "      <th></th>\n",
       "    </tr>\n",
       "  </thead>\n",
       "  <tbody>\n",
       "    <tr>\n",
       "      <td>Afghanistan</td>\n",
       "      <td>110.0</td>\n",
       "      <td>3.377928e-06</td>\n",
       "      <td>2.0</td>\n",
       "      <td>6.141687e-08</td>\n",
       "      <td>0.018182</td>\n",
       "      <td>4.0</td>\n",
       "      <td>1.228337e-07</td>\n",
       "      <td>0.036364</td>\n",
       "      <td>32564342.0</td>\n",
       "      <td>49.927697</td>\n",
       "      <td>1.946902e+10</td>\n",
       "      <td>597.863215</td>\n",
       "      <td>18.600000</td>\n",
       "    </tr>\n",
       "    <tr>\n",
       "      <td>Albania</td>\n",
       "      <td>197.0</td>\n",
       "      <td>6.503200e-05</td>\n",
       "      <td>31.0</td>\n",
       "      <td>1.023346e-05</td>\n",
       "      <td>0.157360</td>\n",
       "      <td>10.0</td>\n",
       "      <td>3.301117e-06</td>\n",
       "      <td>0.050761</td>\n",
       "      <td>3029278.0</td>\n",
       "      <td>105.373522</td>\n",
       "      <td>1.186387e+10</td>\n",
       "      <td>3916.400534</td>\n",
       "      <td>38.000000</td>\n",
       "    </tr>\n",
       "    <tr>\n",
       "      <td>Algeria</td>\n",
       "      <td>454.0</td>\n",
       "      <td>1.148141e-05</td>\n",
       "      <td>31.0</td>\n",
       "      <td>7.839732e-07</td>\n",
       "      <td>0.068282</td>\n",
       "      <td>29.0</td>\n",
       "      <td>7.333943e-07</td>\n",
       "      <td>0.063877</td>\n",
       "      <td>39542166.0</td>\n",
       "      <td>16.602211</td>\n",
       "      <td>1.590491e+11</td>\n",
       "      <td>4022.265668</td>\n",
       "      <td>29.100000</td>\n",
       "    </tr>\n",
       "    <tr>\n",
       "      <td>Andorra</td>\n",
       "      <td>308.0</td>\n",
       "      <td>3.598972e-03</td>\n",
       "      <td>1.0</td>\n",
       "      <td>1.168497e-05</td>\n",
       "      <td>0.003247</td>\n",
       "      <td>3.0</td>\n",
       "      <td>3.505492e-05</td>\n",
       "      <td>0.009740</td>\n",
       "      <td>85580.0</td>\n",
       "      <td>182.863248</td>\n",
       "      <td>2.858518e+09</td>\n",
       "      <td>33401.702490</td>\n",
       "      <td>NaN</td>\n",
       "    </tr>\n",
       "    <tr>\n",
       "      <td>Angola</td>\n",
       "      <td>5.0</td>\n",
       "      <td>2.547725e-07</td>\n",
       "      <td>0.0</td>\n",
       "      <td>0.000000e+00</td>\n",
       "      <td>0.000000</td>\n",
       "      <td>0.0</td>\n",
       "      <td>0.000000e+00</td>\n",
       "      <td>0.000000</td>\n",
       "      <td>19625353.0</td>\n",
       "      <td>15.741841</td>\n",
       "      <td>9.533511e+10</td>\n",
       "      <td>4857.752711</td>\n",
       "      <td>16.799999</td>\n",
       "    </tr>\n",
       "    <tr>\n",
       "      <td>...</td>\n",
       "      <td>...</td>\n",
       "      <td>...</td>\n",
       "      <td>...</td>\n",
       "      <td>...</td>\n",
       "      <td>...</td>\n",
       "      <td>...</td>\n",
       "      <td>...</td>\n",
       "      <td>...</td>\n",
       "      <td>...</td>\n",
       "      <td>...</td>\n",
       "      <td>...</td>\n",
       "      <td>...</td>\n",
       "      <td>...</td>\n",
       "    </tr>\n",
       "    <tr>\n",
       "      <td>Venezuela</td>\n",
       "      <td>119.0</td>\n",
       "      <td>4.064838e-06</td>\n",
       "      <td>39.0</td>\n",
       "      <td>1.332174e-06</td>\n",
       "      <td>0.327731</td>\n",
       "      <td>2.0</td>\n",
       "      <td>6.831660e-08</td>\n",
       "      <td>0.016807</td>\n",
       "      <td>29275460.0</td>\n",
       "      <td>32.098525</td>\n",
       "      <td>NaN</td>\n",
       "      <td>NaN</td>\n",
       "      <td>29.000000</td>\n",
       "    </tr>\n",
       "    <tr>\n",
       "      <td>Vietnam</td>\n",
       "      <td>174.0</td>\n",
       "      <td>1.844220e-06</td>\n",
       "      <td>21.0</td>\n",
       "      <td>2.225783e-07</td>\n",
       "      <td>0.120690</td>\n",
       "      <td>0.0</td>\n",
       "      <td>0.000000e+00</td>\n",
       "      <td>0.000000</td>\n",
       "      <td>94348835.0</td>\n",
       "      <td>284.861070</td>\n",
       "      <td>2.052762e+11</td>\n",
       "      <td>2175.714964</td>\n",
       "      <td>32.599998</td>\n",
       "    </tr>\n",
       "    <tr>\n",
       "      <td>West Bank and Gaza</td>\n",
       "      <td>98.0</td>\n",
       "      <td>NaN</td>\n",
       "      <td>18.0</td>\n",
       "      <td>NaN</td>\n",
       "      <td>0.183673</td>\n",
       "      <td>1.0</td>\n",
       "      <td>NaN</td>\n",
       "      <td>0.010204</td>\n",
       "      <td>NaN</td>\n",
       "      <td>NaN</td>\n",
       "      <td>1.339710e+10</td>\n",
       "      <td>NaN</td>\n",
       "      <td>NaN</td>\n",
       "    </tr>\n",
       "    <tr>\n",
       "      <td>Zambia</td>\n",
       "      <td>28.0</td>\n",
       "      <td>1.858457e-06</td>\n",
       "      <td>0.0</td>\n",
       "      <td>0.000000e+00</td>\n",
       "      <td>0.000000</td>\n",
       "      <td>0.0</td>\n",
       "      <td>0.000000e+00</td>\n",
       "      <td>0.000000</td>\n",
       "      <td>15066266.0</td>\n",
       "      <td>20.018477</td>\n",
       "      <td>2.106399e+10</td>\n",
       "      <td>1398.089592</td>\n",
       "      <td>17.700001</td>\n",
       "    </tr>\n",
       "    <tr>\n",
       "      <td>Zimbabwe</td>\n",
       "      <td>7.0</td>\n",
       "      <td>4.919343e-07</td>\n",
       "      <td>0.0</td>\n",
       "      <td>0.000000e+00</td>\n",
       "      <td>0.000000</td>\n",
       "      <td>1.0</td>\n",
       "      <td>7.027634e-08</td>\n",
       "      <td>0.142857</td>\n",
       "      <td>14229541.0</td>\n",
       "      <td>36.415319</td>\n",
       "      <td>1.661996e+10</td>\n",
       "      <td>1167.989916</td>\n",
       "      <td>19.600000</td>\n",
       "    </tr>\n",
       "  </tbody>\n",
       "</table>\n",
       "<p>176 rows × 13 columns</p>\n",
       "</div>"
      ],
      "text/plain": [
       "                    Confirmed  Percentage of confirmed cases in population  \\\n",
       "Country                                                                      \n",
       "Afghanistan             110.0                                 3.377928e-06   \n",
       "Albania                 197.0                                 6.503200e-05   \n",
       "Algeria                 454.0                                 1.148141e-05   \n",
       "Andorra                 308.0                                 3.598972e-03   \n",
       "Angola                    5.0                                 2.547725e-07   \n",
       "...                       ...                                          ...   \n",
       "Venezuela               119.0                                 4.064838e-06   \n",
       "Vietnam                 174.0                                 1.844220e-06   \n",
       "West Bank and Gaza       98.0                                          NaN   \n",
       "Zambia                   28.0                                 1.858457e-06   \n",
       "Zimbabwe                  7.0                                 4.919343e-07   \n",
       "\n",
       "                    Recovered  Percentage of recoveries in population  \\\n",
       "Country                                                                 \n",
       "Afghanistan               2.0                            6.141687e-08   \n",
       "Albania                  31.0                            1.023346e-05   \n",
       "Algeria                  31.0                            7.839732e-07   \n",
       "Andorra                   1.0                            1.168497e-05   \n",
       "Angola                    0.0                            0.000000e+00   \n",
       "...                       ...                                     ...   \n",
       "Venezuela                39.0                            1.332174e-06   \n",
       "Vietnam                  21.0                            2.225783e-07   \n",
       "West Bank and Gaza       18.0                                     NaN   \n",
       "Zambia                    0.0                            0.000000e+00   \n",
       "Zimbabwe                  0.0                            0.000000e+00   \n",
       "\n",
       "                    Recovery rate  Deaths  Percentage of deaths in population  \\\n",
       "Country                                                                         \n",
       "Afghanistan              0.018182     4.0                        1.228337e-07   \n",
       "Albania                  0.157360    10.0                        3.301117e-06   \n",
       "Algeria                  0.068282    29.0                        7.333943e-07   \n",
       "Andorra                  0.003247     3.0                        3.505492e-05   \n",
       "Angola                   0.000000     0.0                        0.000000e+00   \n",
       "...                           ...     ...                                 ...   \n",
       "Venezuela                0.327731     2.0                        6.831660e-08   \n",
       "Vietnam                  0.120690     0.0                        0.000000e+00   \n",
       "West Bank and Gaza       0.183673     1.0                                 NaN   \n",
       "Zambia                   0.000000     0.0                        0.000000e+00   \n",
       "Zimbabwe                 0.000000     1.0                        7.027634e-08   \n",
       "\n",
       "                    Death rate  Population     Density           GDP  \\\n",
       "Country                                                                \n",
       "Afghanistan           0.036364  32564342.0   49.927697  1.946902e+10   \n",
       "Albania               0.050761   3029278.0  105.373522  1.186387e+10   \n",
       "Algeria               0.063877  39542166.0   16.602211  1.590491e+11   \n",
       "Andorra               0.009740     85580.0  182.863248  2.858518e+09   \n",
       "Angola                0.000000  19625353.0   15.741841  9.533511e+10   \n",
       "...                        ...         ...         ...           ...   \n",
       "Venezuela             0.016807  29275460.0   32.098525           NaN   \n",
       "Vietnam               0.000000  94348835.0  284.861070  2.052762e+11   \n",
       "West Bank and Gaza    0.010204         NaN         NaN  1.339710e+10   \n",
       "Zambia                0.000000  15066266.0   20.018477  2.106399e+10   \n",
       "Zimbabwe              0.142857  14229541.0   36.415319  1.661996e+10   \n",
       "\n",
       "                    GDP per capita  Median Age  \n",
       "Country                                         \n",
       "Afghanistan             597.863215   18.600000  \n",
       "Albania                3916.400534   38.000000  \n",
       "Algeria                4022.265668   29.100000  \n",
       "Andorra               33401.702490         NaN  \n",
       "Angola                 4857.752711   16.799999  \n",
       "...                            ...         ...  \n",
       "Venezuela                      NaN   29.000000  \n",
       "Vietnam                2175.714964   32.599998  \n",
       "West Bank and Gaza             NaN         NaN  \n",
       "Zambia                 1398.089592   17.700001  \n",
       "Zimbabwe               1167.989916   19.600000  \n",
       "\n",
       "[176 rows x 13 columns]"
      ]
     },
     "execution_count": 195,
     "metadata": {},
     "output_type": "execute_result"
    }
   ],
   "source": [
    "Collation"
   ]
  },
  {
   "cell_type": "code",
   "execution_count": 196,
   "metadata": {},
   "outputs": [],
   "source": [
    "#szukanie zależności między seriami danych\n",
    "#potwierdzone przypadki"
   ]
  },
  {
   "cell_type": "code",
   "execution_count": 197,
   "metadata": {},
   "outputs": [
    {
     "data": {
      "text/plain": [
       "720738142043.4658"
      ]
     },
     "execution_count": 197,
     "metadata": {},
     "output_type": "execute_result"
    }
   ],
   "source": [
    "#zależność między potwierdzonymi przypadkami a liczebnością populacji\n",
    "Collation.cov()[\"Confirmed\"][\"Population\"]"
   ]
  },
  {
   "cell_type": "code",
   "execution_count": 198,
   "metadata": {},
   "outputs": [
    {
     "data": {
      "text/plain": [
       "0.38448137656485276"
      ]
     },
     "execution_count": 198,
     "metadata": {},
     "output_type": "execute_result"
    }
   ],
   "source": [
    "#siła tej zależności\n",
    "Collation.corr(method = \"pearson\")[\"Confirmed\"][\"Population\"]"
   ]
  },
  {
   "cell_type": "code",
   "execution_count": 199,
   "metadata": {},
   "outputs": [
    {
     "data": {
      "text/plain": [
       "-379712.07660269813"
      ]
     },
     "execution_count": 199,
     "metadata": {},
     "output_type": "execute_result"
    }
   ],
   "source": [
    "#zależność między potwierdzonymi przypadkami a gęstością zaludnienia\n",
    "Collation.cov()[\"Confirmed\"][\"Density\"]"
   ]
  },
  {
   "cell_type": "code",
   "execution_count": 200,
   "metadata": {},
   "outputs": [
    {
     "data": {
      "text/plain": [
       "-0.02208822968810013"
      ]
     },
     "execution_count": 200,
     "metadata": {},
     "output_type": "execute_result"
    }
   ],
   "source": [
    "#siła tej zależności\n",
    "Collation.corr(method = \"pearson\")[\"Confirmed\"][\"Density\"]"
   ]
  },
  {
   "cell_type": "code",
   "execution_count": 201,
   "metadata": {},
   "outputs": [
    {
     "data": {
      "text/plain": [
       "9953126885758098.0"
      ]
     },
     "execution_count": 201,
     "metadata": {},
     "output_type": "execute_result"
    }
   ],
   "source": [
    "#zależność między potwierdzonymi przypadkami a produktem krajowym brutto\n",
    "Collation.cov()[\"Confirmed\"][\"GDP\"]"
   ]
  },
  {
   "cell_type": "code",
   "execution_count": 202,
   "metadata": {},
   "outputs": [
    {
     "data": {
      "text/plain": [
       "0.6744392211950768"
      ]
     },
     "execution_count": 202,
     "metadata": {},
     "output_type": "execute_result"
    }
   ],
   "source": [
    "#siła tej zależności\n",
    "Collation.corr(method = \"pearson\")[\"Confirmed\"][\"GDP\"]"
   ]
  },
  {
   "cell_type": "code",
   "execution_count": 203,
   "metadata": {},
   "outputs": [
    {
     "data": {
      "text/plain": [
       "52736988.530476935"
      ]
     },
     "execution_count": 203,
     "metadata": {},
     "output_type": "execute_result"
    }
   ],
   "source": [
    "#zależność między potwierdzonymi przypadkami a produktem krajowym brutto per capita\n",
    "Collation.cov()[\"Confirmed\"][\"GDP per capita\"]"
   ]
  },
  {
   "cell_type": "code",
   "execution_count": 204,
   "metadata": {},
   "outputs": [
    {
     "data": {
      "text/plain": [
       "0.20636678971088984"
      ]
     },
     "execution_count": 204,
     "metadata": {},
     "output_type": "execute_result"
    }
   ],
   "source": [
    "#siła tej zależności\n",
    "Collation.corr(method = \"pearson\")[\"Confirmed\"][\"GDP per capita\"]"
   ]
  },
  {
   "cell_type": "code",
   "execution_count": 205,
   "metadata": {},
   "outputs": [
    {
     "data": {
      "text/plain": [
       "37525.229390772176"
      ]
     },
     "execution_count": 205,
     "metadata": {},
     "output_type": "execute_result"
    }
   ],
   "source": [
    "#zależność między potwierdzonymi przypadkami a średnim wiekiem populacji\n",
    "Collation.cov()[\"Confirmed\"][\"Median Age\"]"
   ]
  },
  {
   "cell_type": "code",
   "execution_count": 206,
   "metadata": {},
   "outputs": [
    {
     "data": {
      "text/plain": [
       "0.32204687712628627"
      ]
     },
     "execution_count": 206,
     "metadata": {},
     "output_type": "execute_result"
    }
   ],
   "source": [
    "#siła tej zależności\n",
    "Collation.corr(method = \"pearson\")[\"Confirmed\"][\"Median Age\"]"
   ]
  },
  {
   "cell_type": "code",
   "execution_count": 207,
   "metadata": {},
   "outputs": [],
   "source": [
    "#szukanie zależności między seriami danych\n",
    "#ozdrowieńcy"
   ]
  },
  {
   "cell_type": "code",
   "execution_count": 208,
   "metadata": {},
   "outputs": [
    {
     "data": {
      "text/plain": [
       "623593164150.2538"
      ]
     },
     "execution_count": 208,
     "metadata": {},
     "output_type": "execute_result"
    }
   ],
   "source": [
    "#zależność między ozdrowieńcami a liczebnością populacji\n",
    "Collation.cov()[\"Recovered\"][\"Population\"]"
   ]
  },
  {
   "cell_type": "code",
   "execution_count": 209,
   "metadata": {},
   "outputs": [
    {
     "data": {
      "text/plain": [
       "0.6869252933987576"
      ]
     },
     "execution_count": 209,
     "metadata": {},
     "output_type": "execute_result"
    }
   ],
   "source": [
    "#siła tej zależności\n",
    "Collation.corr(method = \"pearson\")[\"Recovered\"][\"Population\"]"
   ]
  },
  {
   "cell_type": "code",
   "execution_count": 210,
   "metadata": {},
   "outputs": [
    {
     "data": {
      "text/plain": [
       "-105052.55907018803"
      ]
     },
     "execution_count": 210,
     "metadata": {},
     "output_type": "execute_result"
    }
   ],
   "source": [
    "#zależność między ozdrowieńcami a gęstością zaludnienia\n",
    "Collation.cov()[\"Recovered\"][\"Density\"]"
   ]
  },
  {
   "cell_type": "code",
   "execution_count": 211,
   "metadata": {},
   "outputs": [
    {
     "data": {
      "text/plain": [
       "-0.01261895802277924"
      ]
     },
     "execution_count": 211,
     "metadata": {},
     "output_type": "execute_result"
    }
   ],
   "source": [
    "#siła tej zależności\n",
    "Collation.corr(method = \"pearson\")[\"Recovered\"][\"Density\"]"
   ]
  },
  {
   "cell_type": "code",
   "execution_count": 212,
   "metadata": {},
   "outputs": [
    {
     "data": {
      "text/plain": [
       "6197609022112235.0"
      ]
     },
     "execution_count": 212,
     "metadata": {},
     "output_type": "execute_result"
    }
   ],
   "source": [
    "#zależność między ozdrowieńcami a produktem krajowym brutto\n",
    "Collation.cov()[\"Recovered\"][\"GDP\"]"
   ]
  },
  {
   "cell_type": "code",
   "execution_count": 213,
   "metadata": {},
   "outputs": [
    {
     "data": {
      "text/plain": [
       "0.8565184730694706"
      ]
     },
     "execution_count": 213,
     "metadata": {},
     "output_type": "execute_result"
    }
   ],
   "source": [
    "#siła tej zależności\n",
    "Collation.corr(method = \"pearson\")[\"Recovered\"][\"GDP\"]"
   ]
  },
  {
   "cell_type": "code",
   "execution_count": 214,
   "metadata": {},
   "outputs": [
    {
     "data": {
      "text/plain": [
       "2968533.8729936327"
      ]
     },
     "execution_count": 214,
     "metadata": {},
     "output_type": "execute_result"
    }
   ],
   "source": [
    "#zależność między ozdrowieńcami a produktem krajowym brutto per capita\n",
    "Collation.cov()[\"Recovered\"][\"GDP per capita\"]"
   ]
  },
  {
   "cell_type": "code",
   "execution_count": 215,
   "metadata": {},
   "outputs": [
    {
     "data": {
      "text/plain": [
       "0.02368792953085292"
      ]
     },
     "execution_count": 215,
     "metadata": {},
     "output_type": "execute_result"
    }
   ],
   "source": [
    "#siła tej zależności\n",
    "Collation.corr(method = \"pearson\")[\"Recovered\"][\"GDP per capita\"]"
   ]
  },
  {
   "cell_type": "code",
   "execution_count": 216,
   "metadata": {},
   "outputs": [
    {
     "data": {
      "text/plain": [
       "8111.6080833566775"
      ]
     },
     "execution_count": 216,
     "metadata": {},
     "output_type": "execute_result"
    }
   ],
   "source": [
    "#zależność między ozdrowieńcami a średnim wiekiem populacji\n",
    "Collation.cov()[\"Recovered\"][\"Median Age\"]"
   ]
  },
  {
   "cell_type": "code",
   "execution_count": 217,
   "metadata": {},
   "outputs": [
    {
     "data": {
      "text/plain": [
       "0.14366991590981698"
      ]
     },
     "execution_count": 217,
     "metadata": {},
     "output_type": "execute_result"
    }
   ],
   "source": [
    "#siła tej zależności\n",
    "Collation.corr(method = \"pearson\")[\"Recovered\"][\"Median Age\"]"
   ]
  },
  {
   "cell_type": "code",
   "execution_count": 218,
   "metadata": {},
   "outputs": [],
   "source": [
    "#szukanie zależności między seriami danych\n",
    "#zgony"
   ]
  },
  {
   "cell_type": "code",
   "execution_count": 219,
   "metadata": {},
   "outputs": [
    {
     "data": {
      "text/plain": [
       "30041226307.693775"
      ]
     },
     "execution_count": 219,
     "metadata": {},
     "output_type": "execute_result"
    }
   ],
   "source": [
    "#zależność między zgonami a liczebnością populacji\n",
    "Collation.cov()[\"Deaths\"][\"Population\"]"
   ]
  },
  {
   "cell_type": "code",
   "execution_count": 220,
   "metadata": {},
   "outputs": [
    {
     "data": {
      "text/plain": [
       "0.2070290204147343"
      ]
     },
     "execution_count": 220,
     "metadata": {},
     "output_type": "execute_result"
    }
   ],
   "source": [
    "#siła tej zależności\n",
    "Collation.corr(method = \"pearson\")[\"Deaths\"][\"Population\"]"
   ]
  },
  {
   "cell_type": "code",
   "execution_count": 221,
   "metadata": {},
   "outputs": [
    {
     "data": {
      "text/plain": [
       "-23494.086993162982"
      ]
     },
     "execution_count": 221,
     "metadata": {},
     "output_type": "execute_result"
    }
   ],
   "source": [
    "#zależność między zgonami a gęstością zaludnienia\n",
    "Collation.cov()[\"Deaths\"][\"Density\"]"
   ]
  },
  {
   "cell_type": "code",
   "execution_count": 222,
   "metadata": {},
   "outputs": [
    {
     "data": {
      "text/plain": [
       "-0.017655533290004338"
      ]
     },
     "execution_count": 222,
     "metadata": {},
     "output_type": "execute_result"
    }
   ],
   "source": [
    "#siła tej zależności\n",
    "Collation.corr(method = \"pearson\")[\"Deaths\"][\"Density\"]"
   ]
  },
  {
   "cell_type": "code",
   "execution_count": 223,
   "metadata": {},
   "outputs": [
    {
     "data": {
      "text/plain": [
       "459928576512621.2"
      ]
     },
     "execution_count": 223,
     "metadata": {},
     "output_type": "execute_result"
    }
   ],
   "source": [
    "#zależność między zgonami a produktem krajowym brutto\n",
    "Collation.cov()[\"Deaths\"][\"GDP\"]"
   ]
  },
  {
   "cell_type": "code",
   "execution_count": 224,
   "metadata": {},
   "outputs": [
    {
     "data": {
      "text/plain": [
       "0.4006888233439884"
      ]
     },
     "execution_count": 224,
     "metadata": {},
     "output_type": "execute_result"
    }
   ],
   "source": [
    "#siła tej zależności\n",
    "Collation.corr(method = \"pearson\")[\"Deaths\"][\"GDP\"]"
   ]
  },
  {
   "cell_type": "code",
   "execution_count": 225,
   "metadata": {},
   "outputs": [
    {
     "data": {
      "text/plain": [
       "2494132.1449823463"
      ]
     },
     "execution_count": 225,
     "metadata": {},
     "output_type": "execute_result"
    }
   ],
   "source": [
    "#zależność między zgonami a produktem krajowym brutto per capita\n",
    "Collation.cov()[\"Deaths\"][\"GDP per capita\"]"
   ]
  },
  {
   "cell_type": "code",
   "execution_count": 226,
   "metadata": {},
   "outputs": [
    {
     "data": {
      "text/plain": [
       "0.12546732234759167"
      ]
     },
     "execution_count": 226,
     "metadata": {},
     "output_type": "execute_result"
    }
   ],
   "source": [
    "#siła tej zależności\n",
    "Collation.corr(method = \"pearson\")[\"Deaths\"][\"GDP per capita\"]"
   ]
  },
  {
   "cell_type": "code",
   "execution_count": 227,
   "metadata": {},
   "outputs": [
    {
     "data": {
      "text/plain": [
       "2294.368217785248"
      ]
     },
     "execution_count": 227,
     "metadata": {},
     "output_type": "execute_result"
    }
   ],
   "source": [
    "#zależność między zgonami a średnim wiekiem populacji\n",
    "Collation.cov()[\"Deaths\"][\"Median Age\"]"
   ]
  },
  {
   "cell_type": "code",
   "execution_count": 228,
   "metadata": {},
   "outputs": [
    {
     "data": {
      "text/plain": [
       "0.25398666379922685"
      ]
     },
     "execution_count": 228,
     "metadata": {},
     "output_type": "execute_result"
    }
   ],
   "source": [
    "#siła tej zależności\n",
    "Collation.corr(method = \"pearson\")[\"Deaths\"][\"Median Age\"]"
   ]
  },
  {
   "cell_type": "code",
   "execution_count": 229,
   "metadata": {},
   "outputs": [],
   "source": [
    "#szukanie zależności między seriami danych\n",
    "#współczynnik śmiertelności"
   ]
  },
  {
   "cell_type": "code",
   "execution_count": 230,
   "metadata": {},
   "outputs": [
    {
     "data": {
      "text/plain": [
       "422678.4328597058"
      ]
     },
     "execution_count": 230,
     "metadata": {},
     "output_type": "execute_result"
    }
   ],
   "source": [
    "#zależność między współczynnikiem śmiertelności a liczebnością populacji\n",
    "Collation.cov()[\"Death rate\"][\"Population\"]"
   ]
  },
  {
   "cell_type": "code",
   "execution_count": 231,
   "metadata": {},
   "outputs": [
    {
     "data": {
      "text/plain": [
       "0.07257705778210549"
      ]
     },
     "execution_count": 231,
     "metadata": {},
     "output_type": "execute_result"
    }
   ],
   "source": [
    "#siła tej zależności\n",
    "Collation.corr(method = \"pearson\")[\"Death rate\"][\"Population\"]"
   ]
  },
  {
   "cell_type": "code",
   "execution_count": 232,
   "metadata": {},
   "outputs": [
    {
     "data": {
      "text/plain": [
       "-3.054522671652773"
      ]
     },
     "execution_count": 232,
     "metadata": {},
     "output_type": "execute_result"
    }
   ],
   "source": [
    "#zależność między współczynnikiem śmiertelności a gęstością zaludnienia\n",
    "Collation.cov()[\"Death rate\"][\"Density\"]"
   ]
  },
  {
   "cell_type": "code",
   "execution_count": 233,
   "metadata": {},
   "outputs": [
    {
     "data": {
      "text/plain": [
       "-0.05719279487219582"
      ]
     },
     "execution_count": 233,
     "metadata": {},
     "output_type": "execute_result"
    }
   ],
   "source": [
    "#siła tej zależności\n",
    "Collation.corr(method = \"pearson\")[\"Death rate\"][\"Density\"]"
   ]
  },
  {
   "cell_type": "code",
   "execution_count": 234,
   "metadata": {},
   "outputs": [
    {
     "data": {
      "text/plain": [
       "3879469849.4187217"
      ]
     },
     "execution_count": 234,
     "metadata": {},
     "output_type": "execute_result"
    }
   ],
   "source": [
    "#zależność między współczynnikiem śmiertelności a produktem krajowym brutto\n",
    "Collation.cov()[\"Death rate\"][\"GDP\"]"
   ]
  },
  {
   "cell_type": "code",
   "execution_count": 235,
   "metadata": {},
   "outputs": [
    {
     "data": {
      "text/plain": [
       "0.08455009183681625"
      ]
     },
     "execution_count": 235,
     "metadata": {},
     "output_type": "execute_result"
    }
   ],
   "source": [
    "#siła tej zależności\n",
    "Collation.corr(method = \"pearson\")[\"Death rate\"][\"GDP\"]"
   ]
  },
  {
   "cell_type": "code",
   "execution_count": 236,
   "metadata": {},
   "outputs": [
    {
     "data": {
      "text/plain": [
       "-50.37351243912693"
      ]
     },
     "execution_count": 236,
     "metadata": {},
     "output_type": "execute_result"
    }
   ],
   "source": [
    "#zależność między współczynnikiem śmiertelności a produktem krajowym brutto per capita\n",
    "Collation.cov()[\"Death rate\"][\"GDP per capita\"]"
   ]
  },
  {
   "cell_type": "code",
   "execution_count": 237,
   "metadata": {},
   "outputs": [
    {
     "data": {
      "text/plain": [
       "-0.06341285185794214"
      ]
     },
     "execution_count": 237,
     "metadata": {},
     "output_type": "execute_result"
    }
   ],
   "source": [
    "#siła tej zależności\n",
    "Collation.corr(method = \"pearson\")[\"Death rate\"][\"GDP per capita\"]"
   ]
  },
  {
   "cell_type": "code",
   "execution_count": 238,
   "metadata": {},
   "outputs": [
    {
     "data": {
      "text/plain": [
       "-0.03809273274726647"
      ]
     },
     "execution_count": 238,
     "metadata": {},
     "output_type": "execute_result"
    }
   ],
   "source": [
    "#zależność między współczynnikiem śmiertelności a średnim wiekiem społeczeństwa\n",
    "Collation.cov()[\"Death rate\"][\"Median Age\"]"
   ]
  },
  {
   "cell_type": "code",
   "execution_count": 239,
   "metadata": {},
   "outputs": [
    {
     "data": {
      "text/plain": [
       "-0.09490576657722423"
      ]
     },
     "execution_count": 239,
     "metadata": {},
     "output_type": "execute_result"
    }
   ],
   "source": [
    "#siła tej zależności\n",
    "Collation.corr(method = \"pearson\")[\"Death rate\"][\"Median Age\"]"
   ]
  },
  {
   "cell_type": "code",
   "execution_count": 240,
   "metadata": {},
   "outputs": [],
   "source": [
    "#szukanie zależności między seriami danych\n",
    "#współczynnik wyzdrowienia"
   ]
  },
  {
   "cell_type": "code",
   "execution_count": 241,
   "metadata": {},
   "outputs": [
    {
     "data": {
      "text/plain": [
       "7405895.126626816"
      ]
     },
     "execution_count": 241,
     "metadata": {},
     "output_type": "execute_result"
    }
   ],
   "source": [
    "#zależność między współczynnikiem wyzdrowienia a liczebnością populacji\n",
    "Collation.cov()[\"Recovery rate\"][\"Population\"]"
   ]
  },
  {
   "cell_type": "code",
   "execution_count": 242,
   "metadata": {},
   "outputs": [
    {
     "data": {
      "text/plain": [
       "0.348318390567173"
      ]
     },
     "execution_count": 242,
     "metadata": {},
     "output_type": "execute_result"
    }
   ],
   "source": [
    "#siła tej zależności\n",
    "Collation.corr(method = \"pearson\")[\"Recovery rate\"][\"Population\"]"
   ]
  },
  {
   "cell_type": "code",
   "execution_count": 243,
   "metadata": {},
   "outputs": [
    {
     "data": {
      "text/plain": [
       "15.831463146816397"
      ]
     },
     "execution_count": 243,
     "metadata": {},
     "output_type": "execute_result"
    }
   ],
   "source": [
    "#zależność między współczynnikiem wyzdrowienia a gęstością zaludnienia\n",
    "Collation.cov()[\"Recovery rate\"][\"Density\"]"
   ]
  },
  {
   "cell_type": "code",
   "execution_count": 244,
   "metadata": {},
   "outputs": [
    {
     "data": {
      "text/plain": [
       "0.0811948714973217"
      ]
     },
     "execution_count": 244,
     "metadata": {},
     "output_type": "execute_result"
    }
   ],
   "source": [
    "#siła tej zależności\n",
    "Collation.corr(method = \"pearson\")[\"Recovery rate\"][\"Density\"]"
   ]
  },
  {
   "cell_type": "code",
   "execution_count": 245,
   "metadata": {},
   "outputs": [
    {
     "data": {
      "text/plain": [
       "75369009718.39848"
      ]
     },
     "execution_count": 245,
     "metadata": {},
     "output_type": "execute_result"
    }
   ],
   "source": [
    "#zależność między współczynnikiem wyzdrowienia a produktem krajowym brutto\n",
    "Collation.cov()[\"Recovery rate\"][\"GDP\"]"
   ]
  },
  {
   "cell_type": "code",
   "execution_count": 246,
   "metadata": {},
   "outputs": [
    {
     "data": {
      "text/plain": [
       "0.5673540492285414"
      ]
     },
     "execution_count": 246,
     "metadata": {},
     "output_type": "execute_result"
    }
   ],
   "source": [
    "#siła tej zależności\n",
    "Collation.corr(method = \"pearson\")[\"Recovery rate\"][\"GDP\"]"
   ]
  },
  {
   "cell_type": "code",
   "execution_count": 247,
   "metadata": {},
   "outputs": [
    {
     "data": {
      "text/plain": [
       "176.23330491644018"
      ]
     },
     "execution_count": 247,
     "metadata": {},
     "output_type": "execute_result"
    }
   ],
   "source": [
    "#zależność między współczynnikiem wyzdrowienia a produktem krajowym brutto per capita\n",
    "Collation.cov()[\"Recovery rate\"][\"GDP per capita\"]"
   ]
  },
  {
   "cell_type": "code",
   "execution_count": 248,
   "metadata": {},
   "outputs": [
    {
     "data": {
      "text/plain": [
       "0.07686745334094944"
      ]
     },
     "execution_count": 248,
     "metadata": {},
     "output_type": "execute_result"
    }
   ],
   "source": [
    "#siła tej zależności\n",
    "Collation.corr(method = \"pearson\")[\"Recovery rate\"][\"GDP per capita\"]"
   ]
  },
  {
   "cell_type": "code",
   "execution_count": 249,
   "metadata": {},
   "outputs": [
    {
     "data": {
      "text/plain": [
       "0.17920108687782346"
      ]
     },
     "execution_count": 249,
     "metadata": {},
     "output_type": "execute_result"
    }
   ],
   "source": [
    "#zależność między współczynnikiem wyzdrowienia a średnim wiekiem populacji\n",
    "Collation.cov()[\"Recovery rate\"][\"Median Age\"]"
   ]
  },
  {
   "cell_type": "code",
   "execution_count": 275,
   "metadata": {},
   "outputs": [
    {
     "data": {
      "text/plain": [
       "0.14015948237610656"
      ]
     },
     "execution_count": 275,
     "metadata": {},
     "output_type": "execute_result"
    }
   ],
   "source": [
    "#siła tej zależności\n",
    "Collation.corr(method = \"pearson\")[\"Recovery rate\"][\"Median Age\"]"
   ]
  },
  {
   "cell_type": "code",
   "execution_count": null,
   "metadata": {},
   "outputs": [],
   "source": []
  }
 ],
 "metadata": {
  "kernelspec": {
   "display_name": "Python 3",
   "language": "python",
   "name": "python3"
  },
  "language_info": {
   "codemirror_mode": {
    "name": "ipython",
    "version": 3
   },
   "file_extension": ".py",
   "mimetype": "text/x-python",
   "name": "python",
   "nbconvert_exporter": "python",
   "pygments_lexer": "ipython3",
   "version": "3.7.4"
  }
 },
 "nbformat": 4,
 "nbformat_minor": 2
}
